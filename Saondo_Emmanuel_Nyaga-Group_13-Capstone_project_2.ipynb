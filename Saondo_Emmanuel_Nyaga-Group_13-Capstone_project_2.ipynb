{
 "cells": [
  {
   "cell_type": "code",
   "execution_count": 1,
   "id": "f74563aa",
   "metadata": {},
   "outputs": [],
   "source": [
    "import pandas as pd\n",
    "import numpy as np"
   ]
  },
  {
   "cell_type": "code",
   "execution_count": 2,
   "id": "dda573b7",
   "metadata": {},
   "outputs": [],
   "source": [
    "df=pd.read_csv(r\"C:\\Users\\PC\\Documents\\Data science\\insurance_project.csv\")  #Importing data set"
   ]
  },
  {
   "cell_type": "code",
   "execution_count": 3,
   "id": "2f63f7f8",
   "metadata": {
    "scrolled": true
   },
   "outputs": [
    {
     "data": {
      "text/html": [
       "<div>\n",
       "<style scoped>\n",
       "    .dataframe tbody tr th:only-of-type {\n",
       "        vertical-align: middle;\n",
       "    }\n",
       "\n",
       "    .dataframe tbody tr th {\n",
       "        vertical-align: top;\n",
       "    }\n",
       "\n",
       "    .dataframe thead th {\n",
       "        text-align: right;\n",
       "    }\n",
       "</style>\n",
       "<table border=\"1\" class=\"dataframe\">\n",
       "  <thead>\n",
       "    <tr style=\"text-align: right;\">\n",
       "      <th></th>\n",
       "      <th>Unnamed: 0</th>\n",
       "      <th>age</th>\n",
       "      <th>sex</th>\n",
       "      <th>bmi</th>\n",
       "      <th>children</th>\n",
       "      <th>smoker</th>\n",
       "      <th>region</th>\n",
       "      <th>charges</th>\n",
       "    </tr>\n",
       "  </thead>\n",
       "  <tbody>\n",
       "    <tr>\n",
       "      <th>0</th>\n",
       "      <td>0</td>\n",
       "      <td>0.021739</td>\n",
       "      <td>0</td>\n",
       "      <td>0.387788</td>\n",
       "      <td>0.0</td>\n",
       "      <td>1</td>\n",
       "      <td>3</td>\n",
       "      <td>0.472641</td>\n",
       "    </tr>\n",
       "    <tr>\n",
       "      <th>1</th>\n",
       "      <td>1</td>\n",
       "      <td>0.000000</td>\n",
       "      <td>1</td>\n",
       "      <td>0.578435</td>\n",
       "      <td>1.0</td>\n",
       "      <td>0</td>\n",
       "      <td>2</td>\n",
       "      <td>0.018101</td>\n",
       "    </tr>\n",
       "    <tr>\n",
       "      <th>2</th>\n",
       "      <td>2</td>\n",
       "      <td>0.217391</td>\n",
       "      <td>1</td>\n",
       "      <td>0.553426</td>\n",
       "      <td>3.0</td>\n",
       "      <td>0</td>\n",
       "      <td>2</td>\n",
       "      <td>0.099775</td>\n",
       "    </tr>\n",
       "    <tr>\n",
       "      <th>3</th>\n",
       "      <td>3</td>\n",
       "      <td>0.326087</td>\n",
       "      <td>1</td>\n",
       "      <td>0.219065</td>\n",
       "      <td>0.0</td>\n",
       "      <td>0</td>\n",
       "      <td>1</td>\n",
       "      <td>0.625547</td>\n",
       "    </tr>\n",
       "    <tr>\n",
       "      <th>4</th>\n",
       "      <td>4</td>\n",
       "      <td>0.304348</td>\n",
       "      <td>1</td>\n",
       "      <td>0.419617</td>\n",
       "      <td>0.0</td>\n",
       "      <td>0</td>\n",
       "      <td>1</td>\n",
       "      <td>0.082306</td>\n",
       "    </tr>\n",
       "    <tr>\n",
       "      <th>...</th>\n",
       "      <td>...</td>\n",
       "      <td>...</td>\n",
       "      <td>...</td>\n",
       "      <td>...</td>\n",
       "      <td>...</td>\n",
       "      <td>...</td>\n",
       "      <td>...</td>\n",
       "      <td>...</td>\n",
       "    </tr>\n",
       "    <tr>\n",
       "      <th>1188</th>\n",
       "      <td>1334</td>\n",
       "      <td>0.000000</td>\n",
       "      <td>0</td>\n",
       "      <td>0.518350</td>\n",
       "      <td>0.0</td>\n",
       "      <td>0</td>\n",
       "      <td>0</td>\n",
       "      <td>0.032506</td>\n",
       "    </tr>\n",
       "    <tr>\n",
       "      <th>1189</th>\n",
       "      <td>1335</td>\n",
       "      <td>0.000000</td>\n",
       "      <td>0</td>\n",
       "      <td>0.678467</td>\n",
       "      <td>0.0</td>\n",
       "      <td>0</td>\n",
       "      <td>2</td>\n",
       "      <td>0.015231</td>\n",
       "    </tr>\n",
       "    <tr>\n",
       "      <th>1190</th>\n",
       "      <td>1336</td>\n",
       "      <td>0.065217</td>\n",
       "      <td>0</td>\n",
       "      <td>0.319584</td>\n",
       "      <td>0.0</td>\n",
       "      <td>0</td>\n",
       "      <td>3</td>\n",
       "      <td>0.026568</td>\n",
       "    </tr>\n",
       "    <tr>\n",
       "      <th>1191</th>\n",
       "      <td>1337</td>\n",
       "      <td>0.934783</td>\n",
       "      <td>0</td>\n",
       "      <td>0.425788</td>\n",
       "      <td>0.0</td>\n",
       "      <td>1</td>\n",
       "      <td>1</td>\n",
       "      <td>0.840140</td>\n",
       "    </tr>\n",
       "    <tr>\n",
       "      <th>1192</th>\n",
       "      <td>1338</td>\n",
       "      <td>0.461043</td>\n",
       "      <td>1</td>\n",
       "      <td>0.477538</td>\n",
       "      <td>0.0</td>\n",
       "      <td>1</td>\n",
       "      <td>2</td>\n",
       "      <td>0.364264</td>\n",
       "    </tr>\n",
       "  </tbody>\n",
       "</table>\n",
       "<p>1193 rows × 8 columns</p>\n",
       "</div>"
      ],
      "text/plain": [
       "      Unnamed: 0       age  sex       bmi  children  smoker  region   charges\n",
       "0              0  0.021739    0  0.387788       0.0       1       3  0.472641\n",
       "1              1  0.000000    1  0.578435       1.0       0       2  0.018101\n",
       "2              2  0.217391    1  0.553426       3.0       0       2  0.099775\n",
       "3              3  0.326087    1  0.219065       0.0       0       1  0.625547\n",
       "4              4  0.304348    1  0.419617       0.0       0       1  0.082306\n",
       "...          ...       ...  ...       ...       ...     ...     ...       ...\n",
       "1188        1334  0.000000    0  0.518350       0.0       0       0  0.032506\n",
       "1189        1335  0.000000    0  0.678467       0.0       0       2  0.015231\n",
       "1190        1336  0.065217    0  0.319584       0.0       0       3  0.026568\n",
       "1191        1337  0.934783    0  0.425788       0.0       1       1  0.840140\n",
       "1192        1338  0.461043    1  0.477538       0.0       1       2  0.364264\n",
       "\n",
       "[1193 rows x 8 columns]"
      ]
     },
     "execution_count": 3,
     "metadata": {},
     "output_type": "execute_result"
    }
   ],
   "source": [
    "df"
   ]
  },
  {
   "cell_type": "code",
   "execution_count": null,
   "id": "f9b3e8a3",
   "metadata": {},
   "outputs": [],
   "source": []
  },
  {
   "cell_type": "code",
   "execution_count": 4,
   "id": "8b8ae6fc",
   "metadata": {},
   "outputs": [],
   "source": [
    "# Part 1\n",
    "\n",
    "\n",
    "#Analysing the data set, i realized that it is a regression problem.\n",
    "#the dependent variable here is the charges, which is a continuous quantity\n",
    "\n"
   ]
  },
  {
   "cell_type": "code",
   "execution_count": 5,
   "id": "f49fd2c5",
   "metadata": {},
   "outputs": [],
   "source": [
    "y=df['charges']    #Dependent variable"
   ]
  },
  {
   "cell_type": "code",
   "execution_count": 6,
   "id": "71f2beeb",
   "metadata": {},
   "outputs": [
    {
     "data": {
      "text/plain": [
       "0       0.472641\n",
       "1       0.018101\n",
       "2       0.099775\n",
       "3       0.625547\n",
       "4       0.082306\n",
       "          ...   \n",
       "1188    0.032506\n",
       "1189    0.015231\n",
       "1190    0.026568\n",
       "1191    0.840140\n",
       "1192    0.364264\n",
       "Name: charges, Length: 1193, dtype: float64"
      ]
     },
     "execution_count": 6,
     "metadata": {},
     "output_type": "execute_result"
    }
   ],
   "source": [
    "y"
   ]
  },
  {
   "cell_type": "code",
   "execution_count": 7,
   "id": "dc17be5c",
   "metadata": {},
   "outputs": [],
   "source": [
    "x=df[['age','children','smoker','region']] # Independent variables\n",
    "                                            #NOTE: I have used the 4 best features from my insurance data set for model building\n",
    "                                            # i identified these features during EDA"
   ]
  },
  {
   "cell_type": "code",
   "execution_count": null,
   "id": "fea3cf68",
   "metadata": {},
   "outputs": [],
   "source": []
  },
  {
   "cell_type": "code",
   "execution_count": 8,
   "id": "f7d69040",
   "metadata": {},
   "outputs": [
    {
     "data": {
      "text/html": [
       "<div>\n",
       "<style scoped>\n",
       "    .dataframe tbody tr th:only-of-type {\n",
       "        vertical-align: middle;\n",
       "    }\n",
       "\n",
       "    .dataframe tbody tr th {\n",
       "        vertical-align: top;\n",
       "    }\n",
       "\n",
       "    .dataframe thead th {\n",
       "        text-align: right;\n",
       "    }\n",
       "</style>\n",
       "<table border=\"1\" class=\"dataframe\">\n",
       "  <thead>\n",
       "    <tr style=\"text-align: right;\">\n",
       "      <th></th>\n",
       "      <th>age</th>\n",
       "      <th>children</th>\n",
       "      <th>smoker</th>\n",
       "      <th>region</th>\n",
       "    </tr>\n",
       "  </thead>\n",
       "  <tbody>\n",
       "    <tr>\n",
       "      <th>0</th>\n",
       "      <td>0.021739</td>\n",
       "      <td>0.0</td>\n",
       "      <td>1</td>\n",
       "      <td>3</td>\n",
       "    </tr>\n",
       "    <tr>\n",
       "      <th>1</th>\n",
       "      <td>0.000000</td>\n",
       "      <td>1.0</td>\n",
       "      <td>0</td>\n",
       "      <td>2</td>\n",
       "    </tr>\n",
       "    <tr>\n",
       "      <th>2</th>\n",
       "      <td>0.217391</td>\n",
       "      <td>3.0</td>\n",
       "      <td>0</td>\n",
       "      <td>2</td>\n",
       "    </tr>\n",
       "    <tr>\n",
       "      <th>3</th>\n",
       "      <td>0.326087</td>\n",
       "      <td>0.0</td>\n",
       "      <td>0</td>\n",
       "      <td>1</td>\n",
       "    </tr>\n",
       "    <tr>\n",
       "      <th>4</th>\n",
       "      <td>0.304348</td>\n",
       "      <td>0.0</td>\n",
       "      <td>0</td>\n",
       "      <td>1</td>\n",
       "    </tr>\n",
       "    <tr>\n",
       "      <th>...</th>\n",
       "      <td>...</td>\n",
       "      <td>...</td>\n",
       "      <td>...</td>\n",
       "      <td>...</td>\n",
       "    </tr>\n",
       "    <tr>\n",
       "      <th>1188</th>\n",
       "      <td>0.000000</td>\n",
       "      <td>0.0</td>\n",
       "      <td>0</td>\n",
       "      <td>0</td>\n",
       "    </tr>\n",
       "    <tr>\n",
       "      <th>1189</th>\n",
       "      <td>0.000000</td>\n",
       "      <td>0.0</td>\n",
       "      <td>0</td>\n",
       "      <td>2</td>\n",
       "    </tr>\n",
       "    <tr>\n",
       "      <th>1190</th>\n",
       "      <td>0.065217</td>\n",
       "      <td>0.0</td>\n",
       "      <td>0</td>\n",
       "      <td>3</td>\n",
       "    </tr>\n",
       "    <tr>\n",
       "      <th>1191</th>\n",
       "      <td>0.934783</td>\n",
       "      <td>0.0</td>\n",
       "      <td>1</td>\n",
       "      <td>1</td>\n",
       "    </tr>\n",
       "    <tr>\n",
       "      <th>1192</th>\n",
       "      <td>0.461043</td>\n",
       "      <td>0.0</td>\n",
       "      <td>1</td>\n",
       "      <td>2</td>\n",
       "    </tr>\n",
       "  </tbody>\n",
       "</table>\n",
       "<p>1193 rows × 4 columns</p>\n",
       "</div>"
      ],
      "text/plain": [
       "           age  children  smoker  region\n",
       "0     0.021739       0.0       1       3\n",
       "1     0.000000       1.0       0       2\n",
       "2     0.217391       3.0       0       2\n",
       "3     0.326087       0.0       0       1\n",
       "4     0.304348       0.0       0       1\n",
       "...        ...       ...     ...     ...\n",
       "1188  0.000000       0.0       0       0\n",
       "1189  0.000000       0.0       0       2\n",
       "1190  0.065217       0.0       0       3\n",
       "1191  0.934783       0.0       1       1\n",
       "1192  0.461043       0.0       1       2\n",
       "\n",
       "[1193 rows x 4 columns]"
      ]
     },
     "execution_count": 8,
     "metadata": {},
     "output_type": "execute_result"
    }
   ],
   "source": [
    "x"
   ]
  },
  {
   "cell_type": "code",
   "execution_count": 9,
   "id": "ed39c639",
   "metadata": {},
   "outputs": [],
   "source": [
    "#splitting data into training and testing data sets\n",
    "\n",
    "from sklearn.model_selection import train_test_split\n",
    "x_train, x_test, y_train, y_test = train_test_split(x, y,test_size=0.2, random_state=4)"
   ]
  },
  {
   "cell_type": "markdown",
   "id": "434b4269",
   "metadata": {},
   "source": [
    "# Building a Linear Regression Model"
   ]
  },
  {
   "cell_type": "code",
   "execution_count": 91,
   "id": "39d18920",
   "metadata": {},
   "outputs": [],
   "source": [
    "# Creating an instance of LinearRegression\n",
    "\n",
    "from sklearn.linear_model import LinearRegression\n",
    "R=LinearRegression()"
   ]
  },
  {
   "cell_type": "code",
   "execution_count": 11,
   "id": "cd619197",
   "metadata": {},
   "outputs": [
    {
     "data": {
      "text/plain": [
       "LinearRegression()"
      ]
     },
     "execution_count": 11,
     "metadata": {},
     "output_type": "execute_result"
    }
   ],
   "source": [
    "R.fit(x_train,y_train)  # Building the model using training data set"
   ]
  },
  {
   "cell_type": "code",
   "execution_count": 12,
   "id": "570703d2",
   "metadata": {},
   "outputs": [
    {
     "data": {
      "text/plain": [
       "0.07317763083972267"
      ]
     },
     "execution_count": 12,
     "metadata": {},
     "output_type": "execute_result"
    }
   ],
   "source": [
    "R.intercept_"
   ]
  },
  {
   "cell_type": "code",
   "execution_count": 13,
   "id": "7d210577",
   "metadata": {},
   "outputs": [
    {
     "data": {
      "text/plain": [
       "array([ 0.33065752,  0.01309251,  0.43380983, -0.01546341])"
      ]
     },
     "execution_count": 13,
     "metadata": {},
     "output_type": "execute_result"
    }
   ],
   "source": [
    "R.coef_     #coefficients of my independent variables (0.33065752,  0.01309251,  0.43380983, -0.01546341)"
   ]
  },
  {
   "cell_type": "code",
   "execution_count": 14,
   "id": "e813d7e3",
   "metadata": {},
   "outputs": [],
   "source": [
    "# model equation: charges = age*0.33065752 + children*0.01309251 +smoker*0.43380983 - region*0.01546341 + 0.07317763083972267"
   ]
  },
  {
   "cell_type": "code",
   "execution_count": 15,
   "id": "297cfc3d",
   "metadata": {},
   "outputs": [],
   "source": [
    "y_predict=R.predict(x_test) #Testing the model using the unseen data"
   ]
  },
  {
   "cell_type": "markdown",
   "id": "f7000fb1",
   "metadata": {},
   "source": [
    "# Evaluating the model using different metrics"
   ]
  },
  {
   "cell_type": "code",
   "execution_count": 16,
   "id": "7099080d",
   "metadata": {},
   "outputs": [],
   "source": [
    "from sklearn import metrics as m"
   ]
  },
  {
   "cell_type": "code",
   "execution_count": 17,
   "id": "e14f0fec",
   "metadata": {},
   "outputs": [
    {
     "data": {
      "text/plain": [
       "0.01786517011817138"
      ]
     },
     "execution_count": 17,
     "metadata": {},
     "output_type": "execute_result"
    }
   ],
   "source": [
    "m.mean_squared_error(y_test,y_predict)  #evaluating our model using the mean squared error"
   ]
  },
  {
   "cell_type": "code",
   "execution_count": 18,
   "id": "06e50c88",
   "metadata": {},
   "outputs": [
    {
     "data": {
      "text/plain": [
       "0.1336606528420813"
      ]
     },
     "execution_count": 18,
     "metadata": {},
     "output_type": "execute_result"
    }
   ],
   "source": [
    "np.sqrt(m.mean_squared_error(y_test,y_predict))  #evaluating our model using the Root mean squared error (RMSE)"
   ]
  },
  {
   "cell_type": "code",
   "execution_count": 19,
   "id": "7cb5dc01",
   "metadata": {},
   "outputs": [
    {
     "data": {
      "text/plain": [
       "0.6436300523736447"
      ]
     },
     "execution_count": 19,
     "metadata": {},
     "output_type": "execute_result"
    }
   ],
   "source": [
    "m.r2_score(y_test,y_predict)   # model accuracy"
   ]
  },
  {
   "cell_type": "code",
   "execution_count": 20,
   "id": "db21d0e9",
   "metadata": {},
   "outputs": [],
   "source": [
    "linear_score=m.r2_score(y_test,y_predict)"
   ]
  },
  {
   "cell_type": "code",
   "execution_count": 21,
   "id": "5ad69034",
   "metadata": {},
   "outputs": [],
   "source": [
    "y_train_predict=R.predict(x_train) #checking how our model is fairing using seen data"
   ]
  },
  {
   "cell_type": "code",
   "execution_count": 22,
   "id": "a45034c1",
   "metadata": {},
   "outputs": [
    {
     "data": {
      "text/plain": [
       "0.01926460123638254"
      ]
     },
     "execution_count": 22,
     "metadata": {},
     "output_type": "execute_result"
    }
   ],
   "source": [
    "m.mean_squared_error(y_train,y_train_predict)"
   ]
  },
  {
   "cell_type": "code",
   "execution_count": 23,
   "id": "daf40e76",
   "metadata": {},
   "outputs": [
    {
     "data": {
      "text/plain": [
       "0.13879697848434072"
      ]
     },
     "execution_count": 23,
     "metadata": {},
     "output_type": "execute_result"
    }
   ],
   "source": [
    "np.sqrt(m.mean_squared_error(y_train,y_train_predict)) #Bias of our model using the seen data"
   ]
  },
  {
   "cell_type": "code",
   "execution_count": 24,
   "id": "01c0d7a5",
   "metadata": {},
   "outputs": [
    {
     "data": {
      "text/plain": [
       "0.5844764237552935"
      ]
     },
     "execution_count": 24,
     "metadata": {},
     "output_type": "execute_result"
    }
   ],
   "source": [
    "m.r2_score(y_train,y_train_predict) #accuracy of model for our training data set"
   ]
  },
  {
   "cell_type": "code",
   "execution_count": 25,
   "id": "d8a059e4",
   "metadata": {},
   "outputs": [
    {
     "name": "stdout",
     "output_type": "stream",
     "text": [
      "Variance:  0.0051363256422594095\n"
     ]
    }
   ],
   "source": [
    "print('Variance: ',0.13879697848434072-0.1336606528420813) #variance between the training and testing data set\n",
    "                                                "
   ]
  },
  {
   "cell_type": "markdown",
   "id": "cd1c662c",
   "metadata": {},
   "source": [
    "# Building The Ridge Regression Model"
   ]
  },
  {
   "cell_type": "code",
   "execution_count": 26,
   "id": "7ce5fb19",
   "metadata": {},
   "outputs": [],
   "source": [
    "# Ridge Regression\n",
    "\n",
    "from sklearn.linear_model import Ridge\n",
    "from sklearn.linear_model import Lasso\n",
    "from sklearn.metrics import r2_score"
   ]
  },
  {
   "cell_type": "code",
   "execution_count": 27,
   "id": "044688d0",
   "metadata": {},
   "outputs": [],
   "source": [
    "Ridge_R = Ridge(alpha=0.01)"
   ]
  },
  {
   "cell_type": "code",
   "execution_count": 28,
   "id": "099961fa",
   "metadata": {},
   "outputs": [
    {
     "data": {
      "text/plain": [
       "Ridge(alpha=0.01)"
      ]
     },
     "execution_count": 28,
     "metadata": {},
     "output_type": "execute_result"
    }
   ],
   "source": [
    "Ridge_R.fit(x_train, y_train)  #Ridge Regression model building algorithm"
   ]
  },
  {
   "cell_type": "code",
   "execution_count": 29,
   "id": "13191204",
   "metadata": {},
   "outputs": [],
   "source": [
    "y_train_pred_rr = Ridge_R.predict(x_train) #training the data with the seen data"
   ]
  },
  {
   "cell_type": "code",
   "execution_count": 30,
   "id": "dd2dd336",
   "metadata": {},
   "outputs": [
    {
     "data": {
      "text/plain": [
       "0.019264601607124805"
      ]
     },
     "execution_count": 30,
     "metadata": {},
     "output_type": "execute_result"
    }
   ],
   "source": [
    "m.mean_squared_error(y_train,y_train_pred_rr)  #Evaluating the models using mse"
   ]
  },
  {
   "cell_type": "code",
   "execution_count": 31,
   "id": "93a95750",
   "metadata": {},
   "outputs": [
    {
     "data": {
      "text/plain": [
       "0.13879697981989667"
      ]
     },
     "execution_count": 31,
     "metadata": {},
     "output_type": "execute_result"
    }
   ],
   "source": [
    "np.sqrt(m.mean_squared_error(y_train,y_train_pred_rr)) #Bias of our model using the training data set"
   ]
  },
  {
   "cell_type": "code",
   "execution_count": 32,
   "id": "12abeaf2",
   "metadata": {},
   "outputs": [
    {
     "data": {
      "text/plain": [
       "0.5844764157586497"
      ]
     },
     "execution_count": 32,
     "metadata": {},
     "output_type": "execute_result"
    }
   ],
   "source": [
    "r2_score(y_train,y_train_pred_rr) "
   ]
  },
  {
   "cell_type": "code",
   "execution_count": 33,
   "id": "4af34096",
   "metadata": {},
   "outputs": [],
   "source": [
    "y_test_pred_rr=Ridge_R.predict(x_test)  #using our test data set to see how our model is acting"
   ]
  },
  {
   "cell_type": "code",
   "execution_count": 34,
   "id": "1f5fc39c",
   "metadata": {},
   "outputs": [
    {
     "data": {
      "text/plain": [
       "0.01786512421138697"
      ]
     },
     "execution_count": 34,
     "metadata": {},
     "output_type": "execute_result"
    }
   ],
   "source": [
    "m.mean_squared_error(y_test,y_test_pred_rr)"
   ]
  },
  {
   "cell_type": "code",
   "execution_count": 35,
   "id": "f69d5354",
   "metadata": {},
   "outputs": [
    {
     "data": {
      "text/plain": [
       "0.13366048111310602"
      ]
     },
     "execution_count": 35,
     "metadata": {},
     "output_type": "execute_result"
    }
   ],
   "source": [
    "np.sqrt(m.mean_squared_error(y_test,y_test_pred_rr)) \n"
   ]
  },
  {
   "cell_type": "code",
   "execution_count": 36,
   "id": "851e3d01",
   "metadata": {},
   "outputs": [
    {
     "data": {
      "text/plain": [
       "0.6436309681107044"
      ]
     },
     "execution_count": 36,
     "metadata": {},
     "output_type": "execute_result"
    }
   ],
   "source": [
    "r2_score(y_test,y_test_pred_rr)  #accuracy of our model using the testing data "
   ]
  },
  {
   "cell_type": "code",
   "execution_count": 37,
   "id": "73ab3833",
   "metadata": {},
   "outputs": [],
   "source": [
    "ridge_score=r2_score(y_test,y_test_pred_rr)"
   ]
  },
  {
   "cell_type": "code",
   "execution_count": 38,
   "id": "040ce5ff",
   "metadata": {},
   "outputs": [
    {
     "data": {
      "text/plain": [
       "0.07320254574145427"
      ]
     },
     "execution_count": 38,
     "metadata": {},
     "output_type": "execute_result"
    }
   ],
   "source": [
    "Ridge_R.intercept_"
   ]
  },
  {
   "cell_type": "code",
   "execution_count": 39,
   "id": "a54cdb3e",
   "metadata": {},
   "outputs": [
    {
     "data": {
      "text/plain": [
       "array([ 0.33061638,  0.01309255,  0.43375963, -0.01546399])"
      ]
     },
     "execution_count": 39,
     "metadata": {},
     "output_type": "execute_result"
    }
   ],
   "source": [
    "Ridge_R.coef_"
   ]
  },
  {
   "cell_type": "code",
   "execution_count": 40,
   "id": "4883ec96",
   "metadata": {},
   "outputs": [],
   "source": [
    "#Ridge Regression model: cherges=age*0.33061638 + children*0.01309255 + smoker*0.43375963 *region*0.01546399 + 0.07320254574145427"
   ]
  },
  {
   "cell_type": "code",
   "execution_count": 41,
   "id": "e7ea5436",
   "metadata": {},
   "outputs": [
    {
     "name": "stdout",
     "output_type": "stream",
     "text": [
      "variance:  0.005136498706790643\n"
     ]
    }
   ],
   "source": [
    "print(\"variance: \",0.13879697981989667 - 0.13366048111310602) # Variance for the ridge regression model"
   ]
  },
  {
   "cell_type": "markdown",
   "id": "5f82db14",
   "metadata": {},
   "source": [
    "# Building the Lasso Regression Model"
   ]
  },
  {
   "cell_type": "code",
   "execution_count": 42,
   "id": "5d326497",
   "metadata": {},
   "outputs": [],
   "source": [
    "#Lasso Regression\n",
    "\n",
    "Lasso_R=Lasso(0.01)  #creating an instance of the Lasso Regressor"
   ]
  },
  {
   "cell_type": "code",
   "execution_count": 43,
   "id": "d9899630",
   "metadata": {},
   "outputs": [
    {
     "data": {
      "text/plain": [
       "Lasso(alpha=0.01)"
      ]
     },
     "execution_count": 43,
     "metadata": {},
     "output_type": "execute_result"
    }
   ],
   "source": [
    "Lasso_R.fit(x_train,y_train) #model building algorithm using training data"
   ]
  },
  {
   "cell_type": "code",
   "execution_count": 44,
   "id": "02e22400",
   "metadata": {},
   "outputs": [],
   "source": [
    "y_train_pred_ls=Lasso_R.predict(x_train) #checking model using seen data"
   ]
  },
  {
   "cell_type": "code",
   "execution_count": 45,
   "id": "aae04161",
   "metadata": {},
   "outputs": [
    {
     "data": {
      "text/plain": [
       "0.14716036817213274"
      ]
     },
     "execution_count": 45,
     "metadata": {},
     "output_type": "execute_result"
    }
   ],
   "source": [
    "np.sqrt(m.mean_squared_error(y_train, y_train_pred_ls))"
   ]
  },
  {
   "cell_type": "code",
   "execution_count": 46,
   "id": "6f53edf1",
   "metadata": {},
   "outputs": [
    {
     "data": {
      "text/plain": [
       "0.5328919222644574"
      ]
     },
     "execution_count": 46,
     "metadata": {},
     "output_type": "execute_result"
    }
   ],
   "source": [
    "r2_score(y_train,y_train_pred_ls) #model accuracy"
   ]
  },
  {
   "cell_type": "code",
   "execution_count": 47,
   "id": "67ba8e33",
   "metadata": {},
   "outputs": [],
   "source": [
    "y_test_pred_ls = Lasso_R.predict(x_test)  #checking how the model is acting using the test data"
   ]
  },
  {
   "cell_type": "code",
   "execution_count": 48,
   "id": "31d5d4a9",
   "metadata": {},
   "outputs": [
    {
     "data": {
      "text/plain": [
       "0.14332340277445854"
      ]
     },
     "execution_count": 48,
     "metadata": {},
     "output_type": "execute_result"
    }
   ],
   "source": [
    "np.sqrt(m.mean_squared_error(y_test,y_test_pred_ls))"
   ]
  },
  {
   "cell_type": "code",
   "execution_count": 49,
   "id": "867ea7a5",
   "metadata": {},
   "outputs": [
    {
     "data": {
      "text/plain": [
       "0.5902413423653934"
      ]
     },
     "execution_count": 49,
     "metadata": {},
     "output_type": "execute_result"
    }
   ],
   "source": [
    "r2_score(y_test,y_test_pred_ls) #accuracy of  model"
   ]
  },
  {
   "cell_type": "code",
   "execution_count": 50,
   "id": "3bbc268c",
   "metadata": {},
   "outputs": [],
   "source": [
    "lasso_score=r2_score(y_test,y_test_pred_ls)"
   ]
  },
  {
   "cell_type": "code",
   "execution_count": 51,
   "id": "907517a9",
   "metadata": {},
   "outputs": [
    {
     "data": {
      "text/plain": [
       "0.13380205506502524"
      ]
     },
     "execution_count": 51,
     "metadata": {},
     "output_type": "execute_result"
    }
   ],
   "source": [
    "Lasso_R.intercept_"
   ]
  },
  {
   "cell_type": "code",
   "execution_count": 52,
   "id": "f83b8190",
   "metadata": {},
   "outputs": [
    {
     "data": {
      "text/plain": [
       "array([ 0.21672156,  0.00666662,  0.32153698, -0.00894106])"
      ]
     },
     "execution_count": 52,
     "metadata": {},
     "output_type": "execute_result"
    }
   ],
   "source": [
    "Lasso_R.coef_"
   ]
  },
  {
   "cell_type": "code",
   "execution_count": 53,
   "id": "a2accf19",
   "metadata": {},
   "outputs": [],
   "source": [
    "#model of the lasso regression : charges= age*0.21672156 + children*0.00666662 + smoker*0.32153698-region*0.00894106 +0.1338020550650252"
   ]
  },
  {
   "cell_type": "code",
   "execution_count": 54,
   "id": "480f54e0",
   "metadata": {},
   "outputs": [
    {
     "name": "stdout",
     "output_type": "stream",
     "text": [
      "Variance:  0.003836965397674197\n"
     ]
    }
   ],
   "source": [
    "print(\"Variance: \",0.14716036817213274 - 0.14332340277445854  )"
   ]
  },
  {
   "cell_type": "markdown",
   "id": "82bc3422",
   "metadata": {},
   "source": [
    "\n",
    "# Building The Decision Tree Model"
   ]
  },
  {
   "cell_type": "code",
   "execution_count": 55,
   "id": "2f08c866",
   "metadata": {},
   "outputs": [],
   "source": [
    "from sklearn.tree import DecisionTreeRegressor"
   ]
  },
  {
   "cell_type": "code",
   "execution_count": 56,
   "id": "ab11853a",
   "metadata": {},
   "outputs": [],
   "source": [
    "D_T_R = DecisionTreeRegressor(random_state=42)  #creating an instance of the decision tree"
   ]
  },
  {
   "cell_type": "code",
   "execution_count": 57,
   "id": "4e352d6b",
   "metadata": {},
   "outputs": [
    {
     "data": {
      "text/plain": [
       "DecisionTreeRegressor(random_state=42)"
      ]
     },
     "execution_count": 57,
     "metadata": {},
     "output_type": "execute_result"
    }
   ],
   "source": [
    "D_T_R.fit(x_train,y_train)  #Building the model using training data set"
   ]
  },
  {
   "cell_type": "code",
   "execution_count": 58,
   "id": "5720ff35",
   "metadata": {},
   "outputs": [],
   "source": [
    "y_train_pred_dtr=D_T_R.predict(x_train) # using the training data to see how our model is fairing"
   ]
  },
  {
   "cell_type": "code",
   "execution_count": 59,
   "id": "97450cf1",
   "metadata": {},
   "outputs": [
    {
     "data": {
      "text/plain": [
       "0.08276835709905783"
      ]
     },
     "execution_count": 59,
     "metadata": {},
     "output_type": "execute_result"
    }
   ],
   "source": [
    "np.sqrt(m.mean_squared_error(y_train, y_train_pred_dtr)) #evaluating our model using training data set"
   ]
  },
  {
   "cell_type": "code",
   "execution_count": 60,
   "id": "689287aa",
   "metadata": {},
   "outputs": [
    {
     "data": {
      "text/plain": [
       "0.8522374709038588"
      ]
     },
     "execution_count": 60,
     "metadata": {},
     "output_type": "execute_result"
    }
   ],
   "source": [
    "r2_score(y_train,y_train_pred_dtr)"
   ]
  },
  {
   "cell_type": "code",
   "execution_count": 61,
   "id": "cbc30b97",
   "metadata": {},
   "outputs": [],
   "source": [
    "y_test_pred_dtr=D_T_R.predict(x_test) # testing our model using the testing data set"
   ]
  },
  {
   "cell_type": "code",
   "execution_count": 62,
   "id": "f4974904",
   "metadata": {},
   "outputs": [
    {
     "data": {
      "text/plain": [
       "0.1832329076652522"
      ]
     },
     "execution_count": 62,
     "metadata": {},
     "output_type": "execute_result"
    }
   ],
   "source": [
    "np.sqrt(m.mean_squared_error(y_test, y_test_pred_dtr))  # Bias of the testing data"
   ]
  },
  {
   "cell_type": "code",
   "execution_count": 63,
   "id": "33e8a894",
   "metadata": {},
   "outputs": [
    {
     "data": {
      "text/plain": [
       "0.33026828731009505"
      ]
     },
     "execution_count": 63,
     "metadata": {},
     "output_type": "execute_result"
    }
   ],
   "source": [
    "r2_score(y_test, y_test_pred_dtr)  #accuracy of our model using the unseen data"
   ]
  },
  {
   "cell_type": "code",
   "execution_count": 64,
   "id": "902e46d4",
   "metadata": {},
   "outputs": [],
   "source": [
    "DecisionT_score=r2_score(y_test, y_test_pred_dtr)"
   ]
  },
  {
   "cell_type": "code",
   "execution_count": 65,
   "id": "bd16c298",
   "metadata": {},
   "outputs": [
    {
     "name": "stdout",
     "output_type": "stream",
     "text": [
      "Variance:  -0.09887249552803618\n"
     ]
    }
   ],
   "source": [
    "print(\"Variance: \",0.08276835709905783 - 0.181640852627094 )"
   ]
  },
  {
   "cell_type": "markdown",
   "id": "8d966335",
   "metadata": {},
   "source": [
    "# #Building a KNeighbors Regression Model"
   ]
  },
  {
   "cell_type": "code",
   "execution_count": 66,
   "id": "1259c553",
   "metadata": {},
   "outputs": [],
   "source": [
    "from sklearn.neighbors import KNeighborsRegressor"
   ]
  },
  {
   "cell_type": "code",
   "execution_count": 67,
   "id": "622a528b",
   "metadata": {},
   "outputs": [
    {
     "data": {
      "text/plain": [
       "KNeighborsRegressor()"
      ]
     },
     "execution_count": 67,
     "metadata": {},
     "output_type": "execute_result"
    }
   ],
   "source": [
    "KN_reg=KNeighborsRegressor(n_neighbors=5)  #creating an instance of the KNeighbors Regressor\n",
    "KN_reg.fit(x_train,y_train)  #Traing our model using the training data set"
   ]
  },
  {
   "cell_type": "code",
   "execution_count": 68,
   "id": "72d808d4",
   "metadata": {},
   "outputs": [],
   "source": [
    "KNreg_pred=KN_reg.predict(x_test) #testing how our model is doing using the unseen data"
   ]
  },
  {
   "cell_type": "code",
   "execution_count": 69,
   "id": "dd9aa3ae",
   "metadata": {},
   "outputs": [
    {
     "data": {
      "text/plain": [
       "0.021139645948788043"
      ]
     },
     "execution_count": 69,
     "metadata": {},
     "output_type": "execute_result"
    }
   ],
   "source": [
    "m.mean_squared_error(y_test,KNreg_pred) "
   ]
  },
  {
   "cell_type": "code",
   "execution_count": 70,
   "id": "0071e981",
   "metadata": {},
   "outputs": [
    {
     "data": {
      "text/plain": [
       "0.5783116270498523"
      ]
     },
     "execution_count": 70,
     "metadata": {},
     "output_type": "execute_result"
    }
   ],
   "source": [
    "m.r2_score(y_test,KNreg_pred)   # accuracy of model using our unseen data"
   ]
  },
  {
   "cell_type": "code",
   "execution_count": 71,
   "id": "6db24328",
   "metadata": {},
   "outputs": [],
   "source": [
    "KNreg_score=m.r2_score(y_test,KNreg_pred)  #creating an instance  of the score of testing data set"
   ]
  },
  {
   "cell_type": "code",
   "execution_count": 72,
   "id": "39b76c62",
   "metadata": {},
   "outputs": [
    {
     "data": {
      "text/plain": [
       "0.0856645824842311"
      ]
     },
     "execution_count": 72,
     "metadata": {},
     "output_type": "execute_result"
    }
   ],
   "source": [
    "m.mean_absolute_error(y_test,KNreg_pred)"
   ]
  },
  {
   "cell_type": "code",
   "execution_count": 73,
   "id": "4778980f",
   "metadata": {},
   "outputs": [
    {
     "data": {
      "text/plain": [
       "0.14539479340329917"
      ]
     },
     "execution_count": 73,
     "metadata": {},
     "output_type": "execute_result"
    }
   ],
   "source": [
    "np.sqrt(m.mean_squared_error(y_test,KNreg_pred))  # Bias of our testing data set"
   ]
  },
  {
   "cell_type": "code",
   "execution_count": 74,
   "id": "205f016f",
   "metadata": {},
   "outputs": [],
   "source": [
    "KNreg_pred_train=KN_reg.predict(x_train) # testing our model using the seen data"
   ]
  },
  {
   "cell_type": "code",
   "execution_count": 75,
   "id": "23326361",
   "metadata": {},
   "outputs": [
    {
     "data": {
      "text/plain": [
       "0.015046965698313862"
      ]
     },
     "execution_count": 75,
     "metadata": {},
     "output_type": "execute_result"
    }
   ],
   "source": [
    "m.mean_squared_error(y_train,KNreg_pred_train)"
   ]
  },
  {
   "cell_type": "code",
   "execution_count": 76,
   "id": "3dfeaa52",
   "metadata": {},
   "outputs": [
    {
     "data": {
      "text/plain": [
       "0.1226660739500285"
      ]
     },
     "execution_count": 76,
     "metadata": {},
     "output_type": "execute_result"
    }
   ],
   "source": [
    "np.sqrt(m.mean_squared_error(y_train,KNreg_pred_train)) #Bias for our training data set"
   ]
  },
  {
   "cell_type": "code",
   "execution_count": 77,
   "id": "13f404ef",
   "metadata": {},
   "outputs": [
    {
     "data": {
      "text/plain": [
       "0.6754477851954304"
      ]
     },
     "execution_count": 77,
     "metadata": {},
     "output_type": "execute_result"
    }
   ],
   "source": [
    "m.r2_score(y_train,KNreg_pred_train)"
   ]
  },
  {
   "cell_type": "code",
   "execution_count": 78,
   "id": "7bd22eeb",
   "metadata": {},
   "outputs": [
    {
     "name": "stdout",
     "output_type": "stream",
     "text": [
      "Variance:  -0.022728719453270665\n"
     ]
    }
   ],
   "source": [
    "print('Variance: ',0.1226660739500285 - 0.14539479340329917)   #variance of the training and testing data"
   ]
  },
  {
   "cell_type": "markdown",
   "id": "ab4676a0",
   "metadata": {},
   "source": [
    "# Creating a table of scores of the models"
   ]
  },
  {
   "cell_type": "code",
   "execution_count": 79,
   "id": "9df5ab29",
   "metadata": {},
   "outputs": [],
   "source": [
    "results={\"Linear Regression\": linear_score,\"Ridge Regression\":ridge_score,\"Lasso Regression\":lasso_score,\"Decision Tree Regression\":DecisionT_score,\n",
    "             \"KNeighbor Regression\":KNreg_score}\n",
    "final_results=pd.DataFrame(results, index=['Scores'])"
   ]
  },
  {
   "cell_type": "code",
   "execution_count": 80,
   "id": "7d0ae244",
   "metadata": {},
   "outputs": [
    {
     "data": {
      "text/html": [
       "<div>\n",
       "<style scoped>\n",
       "    .dataframe tbody tr th:only-of-type {\n",
       "        vertical-align: middle;\n",
       "    }\n",
       "\n",
       "    .dataframe tbody tr th {\n",
       "        vertical-align: top;\n",
       "    }\n",
       "\n",
       "    .dataframe thead th {\n",
       "        text-align: right;\n",
       "    }\n",
       "</style>\n",
       "<table border=\"1\" class=\"dataframe\">\n",
       "  <thead>\n",
       "    <tr style=\"text-align: right;\">\n",
       "      <th></th>\n",
       "      <th>Linear Regression</th>\n",
       "      <th>Ridge Regression</th>\n",
       "      <th>Lasso Regression</th>\n",
       "      <th>Decision Tree Regression</th>\n",
       "      <th>KNeighbor Regression</th>\n",
       "    </tr>\n",
       "  </thead>\n",
       "  <tbody>\n",
       "    <tr>\n",
       "      <th>Scores</th>\n",
       "      <td>0.64363</td>\n",
       "      <td>0.643631</td>\n",
       "      <td>0.590241</td>\n",
       "      <td>0.330268</td>\n",
       "      <td>0.578312</td>\n",
       "    </tr>\n",
       "  </tbody>\n",
       "</table>\n",
       "</div>"
      ],
      "text/plain": [
       "        Linear Regression  Ridge Regression  Lasso Regression  \\\n",
       "Scores            0.64363          0.643631          0.590241   \n",
       "\n",
       "        Decision Tree Regression  KNeighbor Regression  \n",
       "Scores                  0.330268              0.578312  "
      ]
     },
     "execution_count": 80,
     "metadata": {},
     "output_type": "execute_result"
    }
   ],
   "source": [
    "final_results #printing a table that contains the summary of each model's accuracy"
   ]
  },
  {
   "cell_type": "markdown",
   "id": "d15b04ae",
   "metadata": {},
   "source": [
    "Comparing the accuracy of the Models\n",
    "\n",
    "The above table has shown that the Ridge regression is more accurate going by the r2_score, hence it is the best model\n",
    "amongst the five (5) regression algorithm i have considered. although, the LinearRegression is somewhat similar to the Ridge regression, it therefore means that using the linear regression can also serve"
   ]
  },
  {
   "cell_type": "markdown",
   "id": "8699f779",
   "metadata": {},
   "source": [
    "# PART 2"
   ]
  },
  {
   "cell_type": "markdown",
   "id": "73c48cef",
   "metadata": {},
   "source": [
    "# GridSearchCV- RidgeRegression\n"
   ]
  },
  {
   "cell_type": "code",
   "execution_count": 81,
   "id": "7f68fe28",
   "metadata": {},
   "outputs": [],
   "source": [
    "from sklearn.model_selection import GridSearchCV"
   ]
  },
  {
   "cell_type": "code",
   "execution_count": 82,
   "id": "f3625a17",
   "metadata": {},
   "outputs": [],
   "source": [
    "from sklearn.preprocessing import StandardScaler\n",
    "#standard_x= StandardScaler()\n",
    "#x=standard_x.fit_transform(x)"
   ]
  },
  {
   "cell_type": "code",
   "execution_count": 83,
   "id": "3727124e",
   "metadata": {},
   "outputs": [],
   "source": [
    "model=[]    #creating an empty list to contain our models\n",
    "score=[]       #creating an empty list to handle our scores\n",
    "parameter=[]    #creating an empty list to handle parameters"
   ]
  },
  {
   "cell_type": "code",
   "execution_count": 84,
   "id": "8e2ff224",
   "metadata": {},
   "outputs": [
    {
     "name": "stdout",
     "output_type": "stream",
     "text": [
      "{'alpha': 0.1}\n",
      "Ridge(alpha=0.1)\n",
      "0.5923258244155453\n"
     ]
    }
   ],
   "source": [
    "        #fine tuning hyperparameters\n",
    "\n",
    "parameters = {'alpha': [0.0001,0.001,0.01,0.1]}   #choosing values for alpha\n",
    "\n",
    "c1 = Ridge()   # Create an instance of the Ridge Regression model\n",
    "grid = GridSearchCV(c1, parameters, cv=10)  #creating an instance of GridSearchCV with three parameters\n",
    "\n",
    "grid.fit(x,y)    #Building the model \n",
    "\n",
    "print(grid.best_params_)     #printing the best fine tuned parameter\n",
    "\n",
    "print(grid.best_estimator_)  #printing the best model using the best parameters\n",
    "\n",
    "print(grid.best_score_)    #printing the best score for the model with the provided fine tuned parameters\n",
    "\n",
    "model.append(c1)          #model[c1]\n",
    "\n",
    "score.append(grid.best_score_)      #adding the best_score to the list 'score'\n",
    "\n",
    "parameter.append(grid.best_estimator_)\n",
    "\n"
   ]
  },
  {
   "cell_type": "code",
   "execution_count": 85,
   "id": "c65fc8ba",
   "metadata": {},
   "outputs": [
    {
     "name": "stdout",
     "output_type": "stream",
     "text": [
      "{'alpha': 0.0001}\n",
      "Lasso(alpha=0.0001)\n",
      "0.5923234406187037\n"
     ]
    }
   ],
   "source": [
    "parameters = {'alpha':[0.0001,0.001,0.01,0.1]}   #fine tuning the parameters\n",
    "\n",
    "c2 = Lasso()    #creating an instance of the lasso regression model\n",
    "\n",
    "grid = GridSearchCV(c2, parameters, cv=10)\n",
    "\n",
    "grid.fit(x,y)  #building the model \n",
    "\n",
    "print(grid.best_params_)    #printing the best parameter found during the GridSearchCV\n",
    "\n",
    "print(grid.best_estimator_)    #printing the best estimator parameter\n",
    "\n",
    "print(grid.best_score_)   #printing the best score for the model\n",
    "\n",
    "model.append(c2)\n",
    "score.append(grid.best_score_)\n",
    "parameter.append(grid.best_estimator_)\n"
   ]
  },
  {
   "cell_type": "code",
   "execution_count": 86,
   "id": "2eba6d28",
   "metadata": {},
   "outputs": [
    {
     "name": "stdout",
     "output_type": "stream",
     "text": [
      "{'fit_intercept': True, 'n_jobs': '-1'}\n",
      "LinearRegression(n_jobs='-1')\n",
      "0.5923222918116509\n"
     ]
    }
   ],
   "source": [
    "parameters = {'n_jobs':['-1','1'], 'fit_intercept':[True,False]} #defining the hyperparameters to be tuned\n",
    "\n",
    "c3=LinearRegression()  #creating an instance of the LinearRegression model\n",
    "\n",
    "grid = GridSearchCV(c3, parameters, cv=10) #creating an instance of the GridSearchCV using fine tuned parameters\n",
    "\n",
    "grid.fit(x,y)   #building the model\n",
    "\n",
    "#printing the best tuned paramters for the model\n",
    "print(grid.best_params_)\n",
    "print(grid.best_estimator_)\n",
    "print(grid.best_score_)\n",
    "\n",
    "#adding the models, best scores and best estimators into various lists\n",
    "model.append(c3)\n",
    "score.append(grid.best_score_)\n",
    "parameter.append(grid.best_estimator_)\n",
    "\n"
   ]
  },
  {
   "cell_type": "code",
   "execution_count": 87,
   "id": "a9d2e6aa",
   "metadata": {},
   "outputs": [
    {
     "name": "stderr",
     "output_type": "stream",
     "text": [
      "C:\\ProgramData\\Anaconda3\\conda\\lib\\site-packages\\sklearn\\model_selection\\_validation.py:615: FitFailedWarning: Estimator fit failed. The score on this train-test partition for these parameters will be set to nan. Details: \n",
      "Traceback (most recent call last):\n",
      "  File \"C:\\ProgramData\\Anaconda3\\conda\\lib\\site-packages\\sklearn\\model_selection\\_validation.py\", line 598, in _fit_and_score\n",
      "    estimator.fit(X_train, y_train, **fit_params)\n",
      "  File \"C:\\ProgramData\\Anaconda3\\conda\\lib\\site-packages\\sklearn\\neighbors\\_regression.py\", line 190, in fit\n",
      "    return self._fit(X, y)\n",
      "  File \"C:\\ProgramData\\Anaconda3\\conda\\lib\\site-packages\\sklearn\\neighbors\\_base.py\", line 514, in _fit\n",
      "    raise ValueError(\n",
      "ValueError: Expected n_neighbors > 0. Got 0\n",
      "\n",
      "  warnings.warn(\"Estimator fit failed. The score on this train-test\"\n",
      "C:\\ProgramData\\Anaconda3\\conda\\lib\\site-packages\\sklearn\\model_selection\\_validation.py:615: FitFailedWarning: Estimator fit failed. The score on this train-test partition for these parameters will be set to nan. Details: \n",
      "Traceback (most recent call last):\n",
      "  File \"C:\\ProgramData\\Anaconda3\\conda\\lib\\site-packages\\sklearn\\model_selection\\_validation.py\", line 598, in _fit_and_score\n",
      "    estimator.fit(X_train, y_train, **fit_params)\n",
      "  File \"C:\\ProgramData\\Anaconda3\\conda\\lib\\site-packages\\sklearn\\neighbors\\_regression.py\", line 190, in fit\n",
      "    return self._fit(X, y)\n",
      "  File \"C:\\ProgramData\\Anaconda3\\conda\\lib\\site-packages\\sklearn\\neighbors\\_base.py\", line 514, in _fit\n",
      "    raise ValueError(\n",
      "ValueError: Expected n_neighbors > 0. Got 0\n",
      "\n",
      "  warnings.warn(\"Estimator fit failed. The score on this train-test\"\n",
      "C:\\ProgramData\\Anaconda3\\conda\\lib\\site-packages\\sklearn\\model_selection\\_validation.py:615: FitFailedWarning: Estimator fit failed. The score on this train-test partition for these parameters will be set to nan. Details: \n",
      "Traceback (most recent call last):\n",
      "  File \"C:\\ProgramData\\Anaconda3\\conda\\lib\\site-packages\\sklearn\\model_selection\\_validation.py\", line 598, in _fit_and_score\n",
      "    estimator.fit(X_train, y_train, **fit_params)\n",
      "  File \"C:\\ProgramData\\Anaconda3\\conda\\lib\\site-packages\\sklearn\\neighbors\\_regression.py\", line 190, in fit\n",
      "    return self._fit(X, y)\n",
      "  File \"C:\\ProgramData\\Anaconda3\\conda\\lib\\site-packages\\sklearn\\neighbors\\_base.py\", line 514, in _fit\n",
      "    raise ValueError(\n",
      "ValueError: Expected n_neighbors > 0. Got 0\n",
      "\n",
      "  warnings.warn(\"Estimator fit failed. The score on this train-test\"\n",
      "C:\\ProgramData\\Anaconda3\\conda\\lib\\site-packages\\sklearn\\model_selection\\_validation.py:615: FitFailedWarning: Estimator fit failed. The score on this train-test partition for these parameters will be set to nan. Details: \n",
      "Traceback (most recent call last):\n",
      "  File \"C:\\ProgramData\\Anaconda3\\conda\\lib\\site-packages\\sklearn\\model_selection\\_validation.py\", line 598, in _fit_and_score\n",
      "    estimator.fit(X_train, y_train, **fit_params)\n",
      "  File \"C:\\ProgramData\\Anaconda3\\conda\\lib\\site-packages\\sklearn\\neighbors\\_regression.py\", line 190, in fit\n",
      "    return self._fit(X, y)\n",
      "  File \"C:\\ProgramData\\Anaconda3\\conda\\lib\\site-packages\\sklearn\\neighbors\\_base.py\", line 514, in _fit\n",
      "    raise ValueError(\n",
      "ValueError: Expected n_neighbors > 0. Got 0\n",
      "\n",
      "  warnings.warn(\"Estimator fit failed. The score on this train-test\"\n",
      "C:\\ProgramData\\Anaconda3\\conda\\lib\\site-packages\\sklearn\\model_selection\\_validation.py:615: FitFailedWarning: Estimator fit failed. The score on this train-test partition for these parameters will be set to nan. Details: \n",
      "Traceback (most recent call last):\n",
      "  File \"C:\\ProgramData\\Anaconda3\\conda\\lib\\site-packages\\sklearn\\model_selection\\_validation.py\", line 598, in _fit_and_score\n",
      "    estimator.fit(X_train, y_train, **fit_params)\n",
      "  File \"C:\\ProgramData\\Anaconda3\\conda\\lib\\site-packages\\sklearn\\neighbors\\_regression.py\", line 190, in fit\n",
      "    return self._fit(X, y)\n",
      "  File \"C:\\ProgramData\\Anaconda3\\conda\\lib\\site-packages\\sklearn\\neighbors\\_base.py\", line 514, in _fit\n",
      "    raise ValueError(\n",
      "ValueError: Expected n_neighbors > 0. Got 0\n",
      "\n",
      "  warnings.warn(\"Estimator fit failed. The score on this train-test\"\n",
      "C:\\ProgramData\\Anaconda3\\conda\\lib\\site-packages\\sklearn\\model_selection\\_validation.py:615: FitFailedWarning: Estimator fit failed. The score on this train-test partition for these parameters will be set to nan. Details: \n",
      "Traceback (most recent call last):\n",
      "  File \"C:\\ProgramData\\Anaconda3\\conda\\lib\\site-packages\\sklearn\\model_selection\\_validation.py\", line 598, in _fit_and_score\n",
      "    estimator.fit(X_train, y_train, **fit_params)\n",
      "  File \"C:\\ProgramData\\Anaconda3\\conda\\lib\\site-packages\\sklearn\\neighbors\\_regression.py\", line 190, in fit\n",
      "    return self._fit(X, y)\n",
      "  File \"C:\\ProgramData\\Anaconda3\\conda\\lib\\site-packages\\sklearn\\neighbors\\_base.py\", line 514, in _fit\n",
      "    raise ValueError(\n",
      "ValueError: Expected n_neighbors > 0. Got 0\n",
      "\n",
      "  warnings.warn(\"Estimator fit failed. The score on this train-test\"\n",
      "C:\\ProgramData\\Anaconda3\\conda\\lib\\site-packages\\sklearn\\model_selection\\_validation.py:615: FitFailedWarning: Estimator fit failed. The score on this train-test partition for these parameters will be set to nan. Details: \n",
      "Traceback (most recent call last):\n",
      "  File \"C:\\ProgramData\\Anaconda3\\conda\\lib\\site-packages\\sklearn\\model_selection\\_validation.py\", line 598, in _fit_and_score\n",
      "    estimator.fit(X_train, y_train, **fit_params)\n",
      "  File \"C:\\ProgramData\\Anaconda3\\conda\\lib\\site-packages\\sklearn\\neighbors\\_regression.py\", line 190, in fit\n",
      "    return self._fit(X, y)\n",
      "  File \"C:\\ProgramData\\Anaconda3\\conda\\lib\\site-packages\\sklearn\\neighbors\\_base.py\", line 514, in _fit\n",
      "    raise ValueError(\n",
      "ValueError: Expected n_neighbors > 0. Got 0\n",
      "\n",
      "  warnings.warn(\"Estimator fit failed. The score on this train-test\"\n",
      "C:\\ProgramData\\Anaconda3\\conda\\lib\\site-packages\\sklearn\\model_selection\\_validation.py:615: FitFailedWarning: Estimator fit failed. The score on this train-test partition for these parameters will be set to nan. Details: \n",
      "Traceback (most recent call last):\n",
      "  File \"C:\\ProgramData\\Anaconda3\\conda\\lib\\site-packages\\sklearn\\model_selection\\_validation.py\", line 598, in _fit_and_score\n",
      "    estimator.fit(X_train, y_train, **fit_params)\n",
      "  File \"C:\\ProgramData\\Anaconda3\\conda\\lib\\site-packages\\sklearn\\neighbors\\_regression.py\", line 190, in fit\n",
      "    return self._fit(X, y)\n",
      "  File \"C:\\ProgramData\\Anaconda3\\conda\\lib\\site-packages\\sklearn\\neighbors\\_base.py\", line 514, in _fit\n",
      "    raise ValueError(\n",
      "ValueError: Expected n_neighbors > 0. Got 0\n",
      "\n",
      "  warnings.warn(\"Estimator fit failed. The score on this train-test\"\n",
      "C:\\ProgramData\\Anaconda3\\conda\\lib\\site-packages\\sklearn\\model_selection\\_validation.py:615: FitFailedWarning: Estimator fit failed. The score on this train-test partition for these parameters will be set to nan. Details: \n",
      "Traceback (most recent call last):\n",
      "  File \"C:\\ProgramData\\Anaconda3\\conda\\lib\\site-packages\\sklearn\\model_selection\\_validation.py\", line 598, in _fit_and_score\n",
      "    estimator.fit(X_train, y_train, **fit_params)\n",
      "  File \"C:\\ProgramData\\Anaconda3\\conda\\lib\\site-packages\\sklearn\\neighbors\\_regression.py\", line 190, in fit\n",
      "    return self._fit(X, y)\n",
      "  File \"C:\\ProgramData\\Anaconda3\\conda\\lib\\site-packages\\sklearn\\neighbors\\_base.py\", line 514, in _fit\n",
      "    raise ValueError(\n",
      "ValueError: Expected n_neighbors > 0. Got 0\n",
      "\n",
      "  warnings.warn(\"Estimator fit failed. The score on this train-test\"\n",
      "C:\\ProgramData\\Anaconda3\\conda\\lib\\site-packages\\sklearn\\model_selection\\_validation.py:615: FitFailedWarning: Estimator fit failed. The score on this train-test partition for these parameters will be set to nan. Details: \n",
      "Traceback (most recent call last):\n",
      "  File \"C:\\ProgramData\\Anaconda3\\conda\\lib\\site-packages\\sklearn\\model_selection\\_validation.py\", line 598, in _fit_and_score\n",
      "    estimator.fit(X_train, y_train, **fit_params)\n",
      "  File \"C:\\ProgramData\\Anaconda3\\conda\\lib\\site-packages\\sklearn\\neighbors\\_regression.py\", line 190, in fit\n",
      "    return self._fit(X, y)\n",
      "  File \"C:\\ProgramData\\Anaconda3\\conda\\lib\\site-packages\\sklearn\\neighbors\\_base.py\", line 514, in _fit\n",
      "    raise ValueError(\n",
      "ValueError: Expected n_neighbors > 0. Got 0\n",
      "\n",
      "  warnings.warn(\"Estimator fit failed. The score on this train-test\"\n",
      "C:\\ProgramData\\Anaconda3\\conda\\lib\\site-packages\\sklearn\\model_selection\\_validation.py:615: FitFailedWarning: Estimator fit failed. The score on this train-test partition for these parameters will be set to nan. Details: \n",
      "Traceback (most recent call last):\n",
      "  File \"C:\\ProgramData\\Anaconda3\\conda\\lib\\site-packages\\sklearn\\model_selection\\_validation.py\", line 598, in _fit_and_score\n",
      "    estimator.fit(X_train, y_train, **fit_params)\n",
      "  File \"C:\\ProgramData\\Anaconda3\\conda\\lib\\site-packages\\sklearn\\neighbors\\_regression.py\", line 190, in fit\n",
      "    return self._fit(X, y)\n",
      "  File \"C:\\ProgramData\\Anaconda3\\conda\\lib\\site-packages\\sklearn\\neighbors\\_base.py\", line 514, in _fit\n",
      "    raise ValueError(\n",
      "ValueError: Expected n_neighbors > 0. Got 0\n",
      "\n",
      "  warnings.warn(\"Estimator fit failed. The score on this train-test\"\n",
      "C:\\ProgramData\\Anaconda3\\conda\\lib\\site-packages\\sklearn\\model_selection\\_validation.py:615: FitFailedWarning: Estimator fit failed. The score on this train-test partition for these parameters will be set to nan. Details: \n",
      "Traceback (most recent call last):\n",
      "  File \"C:\\ProgramData\\Anaconda3\\conda\\lib\\site-packages\\sklearn\\model_selection\\_validation.py\", line 598, in _fit_and_score\n",
      "    estimator.fit(X_train, y_train, **fit_params)\n",
      "  File \"C:\\ProgramData\\Anaconda3\\conda\\lib\\site-packages\\sklearn\\neighbors\\_regression.py\", line 190, in fit\n",
      "    return self._fit(X, y)\n",
      "  File \"C:\\ProgramData\\Anaconda3\\conda\\lib\\site-packages\\sklearn\\neighbors\\_base.py\", line 514, in _fit\n",
      "    raise ValueError(\n",
      "ValueError: Expected n_neighbors > 0. Got 0\n",
      "\n",
      "  warnings.warn(\"Estimator fit failed. The score on this train-test\"\n",
      "C:\\ProgramData\\Anaconda3\\conda\\lib\\site-packages\\sklearn\\model_selection\\_validation.py:615: FitFailedWarning: Estimator fit failed. The score on this train-test partition for these parameters will be set to nan. Details: \n",
      "Traceback (most recent call last):\n",
      "  File \"C:\\ProgramData\\Anaconda3\\conda\\lib\\site-packages\\sklearn\\model_selection\\_validation.py\", line 598, in _fit_and_score\n",
      "    estimator.fit(X_train, y_train, **fit_params)\n",
      "  File \"C:\\ProgramData\\Anaconda3\\conda\\lib\\site-packages\\sklearn\\neighbors\\_regression.py\", line 190, in fit\n",
      "    return self._fit(X, y)\n",
      "  File \"C:\\ProgramData\\Anaconda3\\conda\\lib\\site-packages\\sklearn\\neighbors\\_base.py\", line 514, in _fit\n",
      "    raise ValueError(\n",
      "ValueError: Expected n_neighbors > 0. Got 0\n",
      "\n",
      "  warnings.warn(\"Estimator fit failed. The score on this train-test\"\n",
      "C:\\ProgramData\\Anaconda3\\conda\\lib\\site-packages\\sklearn\\model_selection\\_validation.py:615: FitFailedWarning: Estimator fit failed. The score on this train-test partition for these parameters will be set to nan. Details: \n",
      "Traceback (most recent call last):\n",
      "  File \"C:\\ProgramData\\Anaconda3\\conda\\lib\\site-packages\\sklearn\\model_selection\\_validation.py\", line 598, in _fit_and_score\n",
      "    estimator.fit(X_train, y_train, **fit_params)\n",
      "  File \"C:\\ProgramData\\Anaconda3\\conda\\lib\\site-packages\\sklearn\\neighbors\\_regression.py\", line 190, in fit\n",
      "    return self._fit(X, y)\n",
      "  File \"C:\\ProgramData\\Anaconda3\\conda\\lib\\site-packages\\sklearn\\neighbors\\_base.py\", line 514, in _fit\n",
      "    raise ValueError(\n",
      "ValueError: Expected n_neighbors > 0. Got 0\n",
      "\n",
      "  warnings.warn(\"Estimator fit failed. The score on this train-test\"\n",
      "C:\\ProgramData\\Anaconda3\\conda\\lib\\site-packages\\sklearn\\model_selection\\_validation.py:615: FitFailedWarning: Estimator fit failed. The score on this train-test partition for these parameters will be set to nan. Details: \n",
      "Traceback (most recent call last):\n",
      "  File \"C:\\ProgramData\\Anaconda3\\conda\\lib\\site-packages\\sklearn\\model_selection\\_validation.py\", line 598, in _fit_and_score\n",
      "    estimator.fit(X_train, y_train, **fit_params)\n",
      "  File \"C:\\ProgramData\\Anaconda3\\conda\\lib\\site-packages\\sklearn\\neighbors\\_regression.py\", line 190, in fit\n",
      "    return self._fit(X, y)\n",
      "  File \"C:\\ProgramData\\Anaconda3\\conda\\lib\\site-packages\\sklearn\\neighbors\\_base.py\", line 514, in _fit\n",
      "    raise ValueError(\n",
      "ValueError: Expected n_neighbors > 0. Got 0\n",
      "\n",
      "  warnings.warn(\"Estimator fit failed. The score on this train-test\"\n",
      "C:\\ProgramData\\Anaconda3\\conda\\lib\\site-packages\\sklearn\\model_selection\\_validation.py:615: FitFailedWarning: Estimator fit failed. The score on this train-test partition for these parameters will be set to nan. Details: \n",
      "Traceback (most recent call last):\n",
      "  File \"C:\\ProgramData\\Anaconda3\\conda\\lib\\site-packages\\sklearn\\model_selection\\_validation.py\", line 598, in _fit_and_score\n",
      "    estimator.fit(X_train, y_train, **fit_params)\n",
      "  File \"C:\\ProgramData\\Anaconda3\\conda\\lib\\site-packages\\sklearn\\neighbors\\_regression.py\", line 190, in fit\n",
      "    return self._fit(X, y)\n",
      "  File \"C:\\ProgramData\\Anaconda3\\conda\\lib\\site-packages\\sklearn\\neighbors\\_base.py\", line 514, in _fit\n",
      "    raise ValueError(\n",
      "ValueError: Expected n_neighbors > 0. Got 0\n",
      "\n",
      "  warnings.warn(\"Estimator fit failed. The score on this train-test\"\n",
      "C:\\ProgramData\\Anaconda3\\conda\\lib\\site-packages\\sklearn\\model_selection\\_validation.py:615: FitFailedWarning: Estimator fit failed. The score on this train-test partition for these parameters will be set to nan. Details: \n",
      "Traceback (most recent call last):\n",
      "  File \"C:\\ProgramData\\Anaconda3\\conda\\lib\\site-packages\\sklearn\\model_selection\\_validation.py\", line 598, in _fit_and_score\n",
      "    estimator.fit(X_train, y_train, **fit_params)\n",
      "  File \"C:\\ProgramData\\Anaconda3\\conda\\lib\\site-packages\\sklearn\\neighbors\\_regression.py\", line 190, in fit\n",
      "    return self._fit(X, y)\n",
      "  File \"C:\\ProgramData\\Anaconda3\\conda\\lib\\site-packages\\sklearn\\neighbors\\_base.py\", line 514, in _fit\n",
      "    raise ValueError(\n",
      "ValueError: Expected n_neighbors > 0. Got 0\n",
      "\n",
      "  warnings.warn(\"Estimator fit failed. The score on this train-test\"\n",
      "C:\\ProgramData\\Anaconda3\\conda\\lib\\site-packages\\sklearn\\model_selection\\_validation.py:615: FitFailedWarning: Estimator fit failed. The score on this train-test partition for these parameters will be set to nan. Details: \n",
      "Traceback (most recent call last):\n",
      "  File \"C:\\ProgramData\\Anaconda3\\conda\\lib\\site-packages\\sklearn\\model_selection\\_validation.py\", line 598, in _fit_and_score\n",
      "    estimator.fit(X_train, y_train, **fit_params)\n",
      "  File \"C:\\ProgramData\\Anaconda3\\conda\\lib\\site-packages\\sklearn\\neighbors\\_regression.py\", line 190, in fit\n",
      "    return self._fit(X, y)\n",
      "  File \"C:\\ProgramData\\Anaconda3\\conda\\lib\\site-packages\\sklearn\\neighbors\\_base.py\", line 514, in _fit\n",
      "    raise ValueError(\n",
      "ValueError: Expected n_neighbors > 0. Got 0\n",
      "\n",
      "  warnings.warn(\"Estimator fit failed. The score on this train-test\"\n",
      "C:\\ProgramData\\Anaconda3\\conda\\lib\\site-packages\\sklearn\\model_selection\\_validation.py:615: FitFailedWarning: Estimator fit failed. The score on this train-test partition for these parameters will be set to nan. Details: \n",
      "Traceback (most recent call last):\n",
      "  File \"C:\\ProgramData\\Anaconda3\\conda\\lib\\site-packages\\sklearn\\model_selection\\_validation.py\", line 598, in _fit_and_score\n",
      "    estimator.fit(X_train, y_train, **fit_params)\n",
      "  File \"C:\\ProgramData\\Anaconda3\\conda\\lib\\site-packages\\sklearn\\neighbors\\_regression.py\", line 190, in fit\n",
      "    return self._fit(X, y)\n",
      "  File \"C:\\ProgramData\\Anaconda3\\conda\\lib\\site-packages\\sklearn\\neighbors\\_base.py\", line 514, in _fit\n",
      "    raise ValueError(\n",
      "ValueError: Expected n_neighbors > 0. Got 0\n",
      "\n",
      "  warnings.warn(\"Estimator fit failed. The score on this train-test\"\n",
      "C:\\ProgramData\\Anaconda3\\conda\\lib\\site-packages\\sklearn\\model_selection\\_validation.py:615: FitFailedWarning: Estimator fit failed. The score on this train-test partition for these parameters will be set to nan. Details: \n",
      "Traceback (most recent call last):\n",
      "  File \"C:\\ProgramData\\Anaconda3\\conda\\lib\\site-packages\\sklearn\\model_selection\\_validation.py\", line 598, in _fit_and_score\n",
      "    estimator.fit(X_train, y_train, **fit_params)\n",
      "  File \"C:\\ProgramData\\Anaconda3\\conda\\lib\\site-packages\\sklearn\\neighbors\\_regression.py\", line 190, in fit\n",
      "    return self._fit(X, y)\n",
      "  File \"C:\\ProgramData\\Anaconda3\\conda\\lib\\site-packages\\sklearn\\neighbors\\_base.py\", line 514, in _fit\n",
      "    raise ValueError(\n",
      "ValueError: Expected n_neighbors > 0. Got 0\n",
      "\n",
      "  warnings.warn(\"Estimator fit failed. The score on this train-test\"\n"
     ]
    },
    {
     "name": "stdout",
     "output_type": "stream",
     "text": [
      "{'metric': 'euclidean', 'n_neighbors': 7}\n",
      "KNeighborsRegressor(metric='euclidean', n_neighbors=7)\n",
      "0.5415340685951453\n"
     ]
    },
    {
     "name": "stderr",
     "output_type": "stream",
     "text": [
      "C:\\ProgramData\\Anaconda3\\conda\\lib\\site-packages\\sklearn\\model_selection\\_search.py:922: UserWarning: One or more of the test scores are non-finite: [       nan 0.2376627  0.4795917  0.50043584 0.52385047 0.53773393\n",
      " 0.53818027 0.54113182 0.54088299 0.53878018 0.53540798 0.53181543\n",
      " 0.53098026 0.52480755 0.52318729 0.51946631 0.51614705 0.51044293\n",
      " 0.50211303 0.49894033 0.49130369 0.48600096 0.47835557 0.47129945\n",
      " 0.46805621 0.46313074 0.45987757 0.45221372 0.4468179  0.44412926\n",
      "        nan 0.2376627  0.4795917  0.50043584 0.5265686  0.5352243\n",
      " 0.53862133 0.54153407 0.54049753 0.53952265 0.53532138 0.53114753\n",
      " 0.52895201 0.52322667 0.52238177 0.51870376 0.5145989  0.50860955\n",
      " 0.49949355 0.4961585  0.48898221 0.48525061 0.47627812 0.46941167\n",
      " 0.46658264 0.46180233 0.45880605 0.45126304 0.44602562 0.44306937]\n",
      "  warnings.warn(\n"
     ]
    }
   ],
   "source": [
    "parameters = {'n_neighbors': range(30),\n",
    "             'metric':['manhattan','euclidean']} #creating a dictionary of parameters to be tuned\n",
    "\n",
    "c4= KNeighborsRegressor()  #creating an instance of KNeighborsRegressor\n",
    "\n",
    "grid = GridSearchCV(c4, parameters, cv=10) \n",
    "\n",
    "grid.fit(x,y)  #building the model with the hyperparameters\n",
    "\n",
    "print(grid.best_params_)\n",
    "print(grid.best_estimator_)\n",
    "print(grid.best_score_)\n",
    "\n",
    "model.append(c4)\n",
    "score.append(grid.best_score_)\n",
    "parameter.append(grid.best_estimator_)"
   ]
  },
  {
   "cell_type": "code",
   "execution_count": 88,
   "id": "471c76a4",
   "metadata": {},
   "outputs": [
    {
     "name": "stderr",
     "output_type": "stream",
     "text": [
      "C:\\ProgramData\\Anaconda3\\conda\\lib\\site-packages\\sklearn\\model_selection\\_validation.py:615: FitFailedWarning: Estimator fit failed. The score on this train-test partition for these parameters will be set to nan. Details: \n",
      "Traceback (most recent call last):\n",
      "  File \"C:\\ProgramData\\Anaconda3\\conda\\lib\\site-packages\\sklearn\\model_selection\\_validation.py\", line 598, in _fit_and_score\n",
      "    estimator.fit(X_train, y_train, **fit_params)\n",
      "  File \"C:\\ProgramData\\Anaconda3\\conda\\lib\\site-packages\\sklearn\\tree\\_classes.py\", line 1252, in fit\n",
      "    super().fit(\n",
      "  File \"C:\\ProgramData\\Anaconda3\\conda\\lib\\site-packages\\sklearn\\tree\\_classes.py\", line 351, in fit\n",
      "    criterion = CRITERIA_REG[self.criterion](self.n_outputs_,\n",
      "KeyError: 'squared_error'\n",
      "\n",
      "  warnings.warn(\"Estimator fit failed. The score on this train-test\"\n",
      "C:\\ProgramData\\Anaconda3\\conda\\lib\\site-packages\\sklearn\\model_selection\\_validation.py:615: FitFailedWarning: Estimator fit failed. The score on this train-test partition for these parameters will be set to nan. Details: \n",
      "Traceback (most recent call last):\n",
      "  File \"C:\\ProgramData\\Anaconda3\\conda\\lib\\site-packages\\sklearn\\model_selection\\_validation.py\", line 598, in _fit_and_score\n",
      "    estimator.fit(X_train, y_train, **fit_params)\n",
      "  File \"C:\\ProgramData\\Anaconda3\\conda\\lib\\site-packages\\sklearn\\tree\\_classes.py\", line 1252, in fit\n",
      "    super().fit(\n",
      "  File \"C:\\ProgramData\\Anaconda3\\conda\\lib\\site-packages\\sklearn\\tree\\_classes.py\", line 351, in fit\n",
      "    criterion = CRITERIA_REG[self.criterion](self.n_outputs_,\n",
      "KeyError: 'squared_error'\n",
      "\n",
      "  warnings.warn(\"Estimator fit failed. The score on this train-test\"\n",
      "C:\\ProgramData\\Anaconda3\\conda\\lib\\site-packages\\sklearn\\model_selection\\_validation.py:615: FitFailedWarning: Estimator fit failed. The score on this train-test partition for these parameters will be set to nan. Details: \n",
      "Traceback (most recent call last):\n",
      "  File \"C:\\ProgramData\\Anaconda3\\conda\\lib\\site-packages\\sklearn\\model_selection\\_validation.py\", line 598, in _fit_and_score\n",
      "    estimator.fit(X_train, y_train, **fit_params)\n",
      "  File \"C:\\ProgramData\\Anaconda3\\conda\\lib\\site-packages\\sklearn\\tree\\_classes.py\", line 1252, in fit\n",
      "    super().fit(\n",
      "  File \"C:\\ProgramData\\Anaconda3\\conda\\lib\\site-packages\\sklearn\\tree\\_classes.py\", line 351, in fit\n",
      "    criterion = CRITERIA_REG[self.criterion](self.n_outputs_,\n",
      "KeyError: 'squared_error'\n",
      "\n",
      "  warnings.warn(\"Estimator fit failed. The score on this train-test\"\n",
      "C:\\ProgramData\\Anaconda3\\conda\\lib\\site-packages\\sklearn\\model_selection\\_validation.py:615: FitFailedWarning: Estimator fit failed. The score on this train-test partition for these parameters will be set to nan. Details: \n",
      "Traceback (most recent call last):\n",
      "  File \"C:\\ProgramData\\Anaconda3\\conda\\lib\\site-packages\\sklearn\\model_selection\\_validation.py\", line 598, in _fit_and_score\n",
      "    estimator.fit(X_train, y_train, **fit_params)\n",
      "  File \"C:\\ProgramData\\Anaconda3\\conda\\lib\\site-packages\\sklearn\\tree\\_classes.py\", line 1252, in fit\n",
      "    super().fit(\n",
      "  File \"C:\\ProgramData\\Anaconda3\\conda\\lib\\site-packages\\sklearn\\tree\\_classes.py\", line 351, in fit\n",
      "    criterion = CRITERIA_REG[self.criterion](self.n_outputs_,\n",
      "KeyError: 'squared_error'\n",
      "\n",
      "  warnings.warn(\"Estimator fit failed. The score on this train-test\"\n",
      "C:\\ProgramData\\Anaconda3\\conda\\lib\\site-packages\\sklearn\\model_selection\\_validation.py:615: FitFailedWarning: Estimator fit failed. The score on this train-test partition for these parameters will be set to nan. Details: \n",
      "Traceback (most recent call last):\n",
      "  File \"C:\\ProgramData\\Anaconda3\\conda\\lib\\site-packages\\sklearn\\model_selection\\_validation.py\", line 598, in _fit_and_score\n",
      "    estimator.fit(X_train, y_train, **fit_params)\n",
      "  File \"C:\\ProgramData\\Anaconda3\\conda\\lib\\site-packages\\sklearn\\tree\\_classes.py\", line 1252, in fit\n",
      "    super().fit(\n",
      "  File \"C:\\ProgramData\\Anaconda3\\conda\\lib\\site-packages\\sklearn\\tree\\_classes.py\", line 351, in fit\n",
      "    criterion = CRITERIA_REG[self.criterion](self.n_outputs_,\n",
      "KeyError: 'squared_error'\n",
      "\n",
      "  warnings.warn(\"Estimator fit failed. The score on this train-test\"\n",
      "C:\\ProgramData\\Anaconda3\\conda\\lib\\site-packages\\sklearn\\model_selection\\_validation.py:615: FitFailedWarning: Estimator fit failed. The score on this train-test partition for these parameters will be set to nan. Details: \n",
      "Traceback (most recent call last):\n",
      "  File \"C:\\ProgramData\\Anaconda3\\conda\\lib\\site-packages\\sklearn\\model_selection\\_validation.py\", line 598, in _fit_and_score\n",
      "    estimator.fit(X_train, y_train, **fit_params)\n",
      "  File \"C:\\ProgramData\\Anaconda3\\conda\\lib\\site-packages\\sklearn\\tree\\_classes.py\", line 1252, in fit\n",
      "    super().fit(\n",
      "  File \"C:\\ProgramData\\Anaconda3\\conda\\lib\\site-packages\\sklearn\\tree\\_classes.py\", line 351, in fit\n",
      "    criterion = CRITERIA_REG[self.criterion](self.n_outputs_,\n",
      "KeyError: 'squared_error'\n",
      "\n",
      "  warnings.warn(\"Estimator fit failed. The score on this train-test\"\n",
      "C:\\ProgramData\\Anaconda3\\conda\\lib\\site-packages\\sklearn\\model_selection\\_validation.py:615: FitFailedWarning: Estimator fit failed. The score on this train-test partition for these parameters will be set to nan. Details: \n",
      "Traceback (most recent call last):\n",
      "  File \"C:\\ProgramData\\Anaconda3\\conda\\lib\\site-packages\\sklearn\\model_selection\\_validation.py\", line 598, in _fit_and_score\n",
      "    estimator.fit(X_train, y_train, **fit_params)\n",
      "  File \"C:\\ProgramData\\Anaconda3\\conda\\lib\\site-packages\\sklearn\\tree\\_classes.py\", line 1252, in fit\n",
      "    super().fit(\n",
      "  File \"C:\\ProgramData\\Anaconda3\\conda\\lib\\site-packages\\sklearn\\tree\\_classes.py\", line 351, in fit\n",
      "    criterion = CRITERIA_REG[self.criterion](self.n_outputs_,\n",
      "KeyError: 'squared_error'\n",
      "\n",
      "  warnings.warn(\"Estimator fit failed. The score on this train-test\"\n",
      "C:\\ProgramData\\Anaconda3\\conda\\lib\\site-packages\\sklearn\\model_selection\\_validation.py:615: FitFailedWarning: Estimator fit failed. The score on this train-test partition for these parameters will be set to nan. Details: \n",
      "Traceback (most recent call last):\n",
      "  File \"C:\\ProgramData\\Anaconda3\\conda\\lib\\site-packages\\sklearn\\model_selection\\_validation.py\", line 598, in _fit_and_score\n",
      "    estimator.fit(X_train, y_train, **fit_params)\n",
      "  File \"C:\\ProgramData\\Anaconda3\\conda\\lib\\site-packages\\sklearn\\tree\\_classes.py\", line 1252, in fit\n",
      "    super().fit(\n",
      "  File \"C:\\ProgramData\\Anaconda3\\conda\\lib\\site-packages\\sklearn\\tree\\_classes.py\", line 351, in fit\n",
      "    criterion = CRITERIA_REG[self.criterion](self.n_outputs_,\n",
      "KeyError: 'squared_error'\n",
      "\n",
      "  warnings.warn(\"Estimator fit failed. The score on this train-test\"\n",
      "C:\\ProgramData\\Anaconda3\\conda\\lib\\site-packages\\sklearn\\model_selection\\_validation.py:615: FitFailedWarning: Estimator fit failed. The score on this train-test partition for these parameters will be set to nan. Details: \n",
      "Traceback (most recent call last):\n",
      "  File \"C:\\ProgramData\\Anaconda3\\conda\\lib\\site-packages\\sklearn\\model_selection\\_validation.py\", line 598, in _fit_and_score\n",
      "    estimator.fit(X_train, y_train, **fit_params)\n",
      "  File \"C:\\ProgramData\\Anaconda3\\conda\\lib\\site-packages\\sklearn\\tree\\_classes.py\", line 1252, in fit\n",
      "    super().fit(\n",
      "  File \"C:\\ProgramData\\Anaconda3\\conda\\lib\\site-packages\\sklearn\\tree\\_classes.py\", line 351, in fit\n",
      "    criterion = CRITERIA_REG[self.criterion](self.n_outputs_,\n",
      "KeyError: 'squared_error'\n",
      "\n",
      "  warnings.warn(\"Estimator fit failed. The score on this train-test\"\n",
      "C:\\ProgramData\\Anaconda3\\conda\\lib\\site-packages\\sklearn\\model_selection\\_validation.py:615: FitFailedWarning: Estimator fit failed. The score on this train-test partition for these parameters will be set to nan. Details: \n",
      "Traceback (most recent call last):\n",
      "  File \"C:\\ProgramData\\Anaconda3\\conda\\lib\\site-packages\\sklearn\\model_selection\\_validation.py\", line 598, in _fit_and_score\n",
      "    estimator.fit(X_train, y_train, **fit_params)\n",
      "  File \"C:\\ProgramData\\Anaconda3\\conda\\lib\\site-packages\\sklearn\\tree\\_classes.py\", line 1252, in fit\n",
      "    super().fit(\n",
      "  File \"C:\\ProgramData\\Anaconda3\\conda\\lib\\site-packages\\sklearn\\tree\\_classes.py\", line 351, in fit\n",
      "    criterion = CRITERIA_REG[self.criterion](self.n_outputs_,\n",
      "KeyError: 'squared_error'\n",
      "\n",
      "  warnings.warn(\"Estimator fit failed. The score on this train-test\"\n",
      "C:\\ProgramData\\Anaconda3\\conda\\lib\\site-packages\\sklearn\\model_selection\\_validation.py:615: FitFailedWarning: Estimator fit failed. The score on this train-test partition for these parameters will be set to nan. Details: \n",
      "Traceback (most recent call last):\n",
      "  File \"C:\\ProgramData\\Anaconda3\\conda\\lib\\site-packages\\sklearn\\model_selection\\_validation.py\", line 598, in _fit_and_score\n",
      "    estimator.fit(X_train, y_train, **fit_params)\n",
      "  File \"C:\\ProgramData\\Anaconda3\\conda\\lib\\site-packages\\sklearn\\tree\\_classes.py\", line 1252, in fit\n",
      "    super().fit(\n",
      "  File \"C:\\ProgramData\\Anaconda3\\conda\\lib\\site-packages\\sklearn\\tree\\_classes.py\", line 351, in fit\n",
      "    criterion = CRITERIA_REG[self.criterion](self.n_outputs_,\n",
      "KeyError: 'squared_error'\n",
      "\n",
      "  warnings.warn(\"Estimator fit failed. The score on this train-test\"\n",
      "C:\\ProgramData\\Anaconda3\\conda\\lib\\site-packages\\sklearn\\model_selection\\_validation.py:615: FitFailedWarning: Estimator fit failed. The score on this train-test partition for these parameters will be set to nan. Details: \n",
      "Traceback (most recent call last):\n",
      "  File \"C:\\ProgramData\\Anaconda3\\conda\\lib\\site-packages\\sklearn\\model_selection\\_validation.py\", line 598, in _fit_and_score\n",
      "    estimator.fit(X_train, y_train, **fit_params)\n",
      "  File \"C:\\ProgramData\\Anaconda3\\conda\\lib\\site-packages\\sklearn\\tree\\_classes.py\", line 1252, in fit\n",
      "    super().fit(\n",
      "  File \"C:\\ProgramData\\Anaconda3\\conda\\lib\\site-packages\\sklearn\\tree\\_classes.py\", line 351, in fit\n",
      "    criterion = CRITERIA_REG[self.criterion](self.n_outputs_,\n",
      "KeyError: 'squared_error'\n",
      "\n",
      "  warnings.warn(\"Estimator fit failed. The score on this train-test\"\n",
      "C:\\ProgramData\\Anaconda3\\conda\\lib\\site-packages\\sklearn\\model_selection\\_validation.py:615: FitFailedWarning: Estimator fit failed. The score on this train-test partition for these parameters will be set to nan. Details: \n",
      "Traceback (most recent call last):\n",
      "  File \"C:\\ProgramData\\Anaconda3\\conda\\lib\\site-packages\\sklearn\\model_selection\\_validation.py\", line 598, in _fit_and_score\n",
      "    estimator.fit(X_train, y_train, **fit_params)\n",
      "  File \"C:\\ProgramData\\Anaconda3\\conda\\lib\\site-packages\\sklearn\\tree\\_classes.py\", line 1252, in fit\n",
      "    super().fit(\n",
      "  File \"C:\\ProgramData\\Anaconda3\\conda\\lib\\site-packages\\sklearn\\tree\\_classes.py\", line 351, in fit\n",
      "    criterion = CRITERIA_REG[self.criterion](self.n_outputs_,\n",
      "KeyError: 'squared_error'\n",
      "\n",
      "  warnings.warn(\"Estimator fit failed. The score on this train-test\"\n",
      "C:\\ProgramData\\Anaconda3\\conda\\lib\\site-packages\\sklearn\\model_selection\\_validation.py:615: FitFailedWarning: Estimator fit failed. The score on this train-test partition for these parameters will be set to nan. Details: \n",
      "Traceback (most recent call last):\n",
      "  File \"C:\\ProgramData\\Anaconda3\\conda\\lib\\site-packages\\sklearn\\model_selection\\_validation.py\", line 598, in _fit_and_score\n",
      "    estimator.fit(X_train, y_train, **fit_params)\n",
      "  File \"C:\\ProgramData\\Anaconda3\\conda\\lib\\site-packages\\sklearn\\tree\\_classes.py\", line 1252, in fit\n",
      "    super().fit(\n",
      "  File \"C:\\ProgramData\\Anaconda3\\conda\\lib\\site-packages\\sklearn\\tree\\_classes.py\", line 351, in fit\n",
      "    criterion = CRITERIA_REG[self.criterion](self.n_outputs_,\n",
      "KeyError: 'squared_error'\n",
      "\n",
      "  warnings.warn(\"Estimator fit failed. The score on this train-test\"\n",
      "C:\\ProgramData\\Anaconda3\\conda\\lib\\site-packages\\sklearn\\model_selection\\_validation.py:615: FitFailedWarning: Estimator fit failed. The score on this train-test partition for these parameters will be set to nan. Details: \n",
      "Traceback (most recent call last):\n",
      "  File \"C:\\ProgramData\\Anaconda3\\conda\\lib\\site-packages\\sklearn\\model_selection\\_validation.py\", line 598, in _fit_and_score\n",
      "    estimator.fit(X_train, y_train, **fit_params)\n",
      "  File \"C:\\ProgramData\\Anaconda3\\conda\\lib\\site-packages\\sklearn\\tree\\_classes.py\", line 1252, in fit\n",
      "    super().fit(\n",
      "  File \"C:\\ProgramData\\Anaconda3\\conda\\lib\\site-packages\\sklearn\\tree\\_classes.py\", line 351, in fit\n",
      "    criterion = CRITERIA_REG[self.criterion](self.n_outputs_,\n",
      "KeyError: 'squared_error'\n",
      "\n",
      "  warnings.warn(\"Estimator fit failed. The score on this train-test\"\n",
      "C:\\ProgramData\\Anaconda3\\conda\\lib\\site-packages\\sklearn\\model_selection\\_validation.py:615: FitFailedWarning: Estimator fit failed. The score on this train-test partition for these parameters will be set to nan. Details: \n",
      "Traceback (most recent call last):\n",
      "  File \"C:\\ProgramData\\Anaconda3\\conda\\lib\\site-packages\\sklearn\\model_selection\\_validation.py\", line 598, in _fit_and_score\n",
      "    estimator.fit(X_train, y_train, **fit_params)\n",
      "  File \"C:\\ProgramData\\Anaconda3\\conda\\lib\\site-packages\\sklearn\\tree\\_classes.py\", line 1252, in fit\n",
      "    super().fit(\n",
      "  File \"C:\\ProgramData\\Anaconda3\\conda\\lib\\site-packages\\sklearn\\tree\\_classes.py\", line 351, in fit\n",
      "    criterion = CRITERIA_REG[self.criterion](self.n_outputs_,\n",
      "KeyError: 'squared_error'\n",
      "\n",
      "  warnings.warn(\"Estimator fit failed. The score on this train-test\"\n",
      "C:\\ProgramData\\Anaconda3\\conda\\lib\\site-packages\\sklearn\\model_selection\\_validation.py:615: FitFailedWarning: Estimator fit failed. The score on this train-test partition for these parameters will be set to nan. Details: \n",
      "Traceback (most recent call last):\n",
      "  File \"C:\\ProgramData\\Anaconda3\\conda\\lib\\site-packages\\sklearn\\model_selection\\_validation.py\", line 598, in _fit_and_score\n",
      "    estimator.fit(X_train, y_train, **fit_params)\n",
      "  File \"C:\\ProgramData\\Anaconda3\\conda\\lib\\site-packages\\sklearn\\tree\\_classes.py\", line 1252, in fit\n",
      "    super().fit(\n",
      "  File \"C:\\ProgramData\\Anaconda3\\conda\\lib\\site-packages\\sklearn\\tree\\_classes.py\", line 351, in fit\n",
      "    criterion = CRITERIA_REG[self.criterion](self.n_outputs_,\n",
      "KeyError: 'squared_error'\n",
      "\n",
      "  warnings.warn(\"Estimator fit failed. The score on this train-test\"\n",
      "C:\\ProgramData\\Anaconda3\\conda\\lib\\site-packages\\sklearn\\model_selection\\_validation.py:615: FitFailedWarning: Estimator fit failed. The score on this train-test partition for these parameters will be set to nan. Details: \n",
      "Traceback (most recent call last):\n",
      "  File \"C:\\ProgramData\\Anaconda3\\conda\\lib\\site-packages\\sklearn\\model_selection\\_validation.py\", line 598, in _fit_and_score\n",
      "    estimator.fit(X_train, y_train, **fit_params)\n",
      "  File \"C:\\ProgramData\\Anaconda3\\conda\\lib\\site-packages\\sklearn\\tree\\_classes.py\", line 1252, in fit\n",
      "    super().fit(\n",
      "  File \"C:\\ProgramData\\Anaconda3\\conda\\lib\\site-packages\\sklearn\\tree\\_classes.py\", line 351, in fit\n",
      "    criterion = CRITERIA_REG[self.criterion](self.n_outputs_,\n",
      "KeyError: 'squared_error'\n",
      "\n",
      "  warnings.warn(\"Estimator fit failed. The score on this train-test\"\n",
      "C:\\ProgramData\\Anaconda3\\conda\\lib\\site-packages\\sklearn\\model_selection\\_validation.py:615: FitFailedWarning: Estimator fit failed. The score on this train-test partition for these parameters will be set to nan. Details: \n",
      "Traceback (most recent call last):\n",
      "  File \"C:\\ProgramData\\Anaconda3\\conda\\lib\\site-packages\\sklearn\\model_selection\\_validation.py\", line 598, in _fit_and_score\n",
      "    estimator.fit(X_train, y_train, **fit_params)\n",
      "  File \"C:\\ProgramData\\Anaconda3\\conda\\lib\\site-packages\\sklearn\\tree\\_classes.py\", line 1252, in fit\n",
      "    super().fit(\n",
      "  File \"C:\\ProgramData\\Anaconda3\\conda\\lib\\site-packages\\sklearn\\tree\\_classes.py\", line 351, in fit\n",
      "    criterion = CRITERIA_REG[self.criterion](self.n_outputs_,\n",
      "KeyError: 'squared_error'\n",
      "\n",
      "  warnings.warn(\"Estimator fit failed. The score on this train-test\"\n",
      "C:\\ProgramData\\Anaconda3\\conda\\lib\\site-packages\\sklearn\\model_selection\\_validation.py:615: FitFailedWarning: Estimator fit failed. The score on this train-test partition for these parameters will be set to nan. Details: \n",
      "Traceback (most recent call last):\n",
      "  File \"C:\\ProgramData\\Anaconda3\\conda\\lib\\site-packages\\sklearn\\model_selection\\_validation.py\", line 598, in _fit_and_score\n",
      "    estimator.fit(X_train, y_train, **fit_params)\n",
      "  File \"C:\\ProgramData\\Anaconda3\\conda\\lib\\site-packages\\sklearn\\tree\\_classes.py\", line 1252, in fit\n",
      "    super().fit(\n",
      "  File \"C:\\ProgramData\\Anaconda3\\conda\\lib\\site-packages\\sklearn\\tree\\_classes.py\", line 351, in fit\n",
      "    criterion = CRITERIA_REG[self.criterion](self.n_outputs_,\n",
      "KeyError: 'squared_error'\n",
      "\n",
      "  warnings.warn(\"Estimator fit failed. The score on this train-test\"\n"
     ]
    },
    {
     "name": "stdout",
     "output_type": "stream",
     "text": [
      "{'criterion': 'friedman_mse', 'splitter': 'random'}\n",
      "DecisionTreeRegressor(criterion='friedman_mse', splitter='random')\n",
      "0.36418623790576654\n"
     ]
    },
    {
     "name": "stderr",
     "output_type": "stream",
     "text": [
      "C:\\ProgramData\\Anaconda3\\conda\\lib\\site-packages\\sklearn\\model_selection\\_validation.py:615: FitFailedWarning: Estimator fit failed. The score on this train-test partition for these parameters will be set to nan. Details: \n",
      "Traceback (most recent call last):\n",
      "  File \"C:\\ProgramData\\Anaconda3\\conda\\lib\\site-packages\\sklearn\\model_selection\\_validation.py\", line 598, in _fit_and_score\n",
      "    estimator.fit(X_train, y_train, **fit_params)\n",
      "  File \"C:\\ProgramData\\Anaconda3\\conda\\lib\\site-packages\\sklearn\\tree\\_classes.py\", line 1252, in fit\n",
      "    super().fit(\n",
      "  File \"C:\\ProgramData\\Anaconda3\\conda\\lib\\site-packages\\sklearn\\tree\\_classes.py\", line 351, in fit\n",
      "    criterion = CRITERIA_REG[self.criterion](self.n_outputs_,\n",
      "KeyError: 'absolute error'\n",
      "\n",
      "  warnings.warn(\"Estimator fit failed. The score on this train-test\"\n",
      "C:\\ProgramData\\Anaconda3\\conda\\lib\\site-packages\\sklearn\\model_selection\\_validation.py:615: FitFailedWarning: Estimator fit failed. The score on this train-test partition for these parameters will be set to nan. Details: \n",
      "Traceback (most recent call last):\n",
      "  File \"C:\\ProgramData\\Anaconda3\\conda\\lib\\site-packages\\sklearn\\model_selection\\_validation.py\", line 598, in _fit_and_score\n",
      "    estimator.fit(X_train, y_train, **fit_params)\n",
      "  File \"C:\\ProgramData\\Anaconda3\\conda\\lib\\site-packages\\sklearn\\tree\\_classes.py\", line 1252, in fit\n",
      "    super().fit(\n",
      "  File \"C:\\ProgramData\\Anaconda3\\conda\\lib\\site-packages\\sklearn\\tree\\_classes.py\", line 351, in fit\n",
      "    criterion = CRITERIA_REG[self.criterion](self.n_outputs_,\n",
      "KeyError: 'absolute error'\n",
      "\n",
      "  warnings.warn(\"Estimator fit failed. The score on this train-test\"\n",
      "C:\\ProgramData\\Anaconda3\\conda\\lib\\site-packages\\sklearn\\model_selection\\_validation.py:615: FitFailedWarning: Estimator fit failed. The score on this train-test partition for these parameters will be set to nan. Details: \n",
      "Traceback (most recent call last):\n",
      "  File \"C:\\ProgramData\\Anaconda3\\conda\\lib\\site-packages\\sklearn\\model_selection\\_validation.py\", line 598, in _fit_and_score\n",
      "    estimator.fit(X_train, y_train, **fit_params)\n",
      "  File \"C:\\ProgramData\\Anaconda3\\conda\\lib\\site-packages\\sklearn\\tree\\_classes.py\", line 1252, in fit\n",
      "    super().fit(\n",
      "  File \"C:\\ProgramData\\Anaconda3\\conda\\lib\\site-packages\\sklearn\\tree\\_classes.py\", line 351, in fit\n",
      "    criterion = CRITERIA_REG[self.criterion](self.n_outputs_,\n",
      "KeyError: 'absolute error'\n",
      "\n",
      "  warnings.warn(\"Estimator fit failed. The score on this train-test\"\n",
      "C:\\ProgramData\\Anaconda3\\conda\\lib\\site-packages\\sklearn\\model_selection\\_validation.py:615: FitFailedWarning: Estimator fit failed. The score on this train-test partition for these parameters will be set to nan. Details: \n",
      "Traceback (most recent call last):\n",
      "  File \"C:\\ProgramData\\Anaconda3\\conda\\lib\\site-packages\\sklearn\\model_selection\\_validation.py\", line 598, in _fit_and_score\n",
      "    estimator.fit(X_train, y_train, **fit_params)\n",
      "  File \"C:\\ProgramData\\Anaconda3\\conda\\lib\\site-packages\\sklearn\\tree\\_classes.py\", line 1252, in fit\n",
      "    super().fit(\n",
      "  File \"C:\\ProgramData\\Anaconda3\\conda\\lib\\site-packages\\sklearn\\tree\\_classes.py\", line 351, in fit\n",
      "    criterion = CRITERIA_REG[self.criterion](self.n_outputs_,\n",
      "KeyError: 'absolute error'\n",
      "\n",
      "  warnings.warn(\"Estimator fit failed. The score on this train-test\"\n",
      "C:\\ProgramData\\Anaconda3\\conda\\lib\\site-packages\\sklearn\\model_selection\\_validation.py:615: FitFailedWarning: Estimator fit failed. The score on this train-test partition for these parameters will be set to nan. Details: \n",
      "Traceback (most recent call last):\n",
      "  File \"C:\\ProgramData\\Anaconda3\\conda\\lib\\site-packages\\sklearn\\model_selection\\_validation.py\", line 598, in _fit_and_score\n",
      "    estimator.fit(X_train, y_train, **fit_params)\n",
      "  File \"C:\\ProgramData\\Anaconda3\\conda\\lib\\site-packages\\sklearn\\tree\\_classes.py\", line 1252, in fit\n",
      "    super().fit(\n",
      "  File \"C:\\ProgramData\\Anaconda3\\conda\\lib\\site-packages\\sklearn\\tree\\_classes.py\", line 351, in fit\n",
      "    criterion = CRITERIA_REG[self.criterion](self.n_outputs_,\n",
      "KeyError: 'absolute error'\n",
      "\n",
      "  warnings.warn(\"Estimator fit failed. The score on this train-test\"\n",
      "C:\\ProgramData\\Anaconda3\\conda\\lib\\site-packages\\sklearn\\model_selection\\_validation.py:615: FitFailedWarning: Estimator fit failed. The score on this train-test partition for these parameters will be set to nan. Details: \n",
      "Traceback (most recent call last):\n",
      "  File \"C:\\ProgramData\\Anaconda3\\conda\\lib\\site-packages\\sklearn\\model_selection\\_validation.py\", line 598, in _fit_and_score\n",
      "    estimator.fit(X_train, y_train, **fit_params)\n",
      "  File \"C:\\ProgramData\\Anaconda3\\conda\\lib\\site-packages\\sklearn\\tree\\_classes.py\", line 1252, in fit\n",
      "    super().fit(\n",
      "  File \"C:\\ProgramData\\Anaconda3\\conda\\lib\\site-packages\\sklearn\\tree\\_classes.py\", line 351, in fit\n",
      "    criterion = CRITERIA_REG[self.criterion](self.n_outputs_,\n",
      "KeyError: 'absolute error'\n",
      "\n",
      "  warnings.warn(\"Estimator fit failed. The score on this train-test\"\n",
      "C:\\ProgramData\\Anaconda3\\conda\\lib\\site-packages\\sklearn\\model_selection\\_validation.py:615: FitFailedWarning: Estimator fit failed. The score on this train-test partition for these parameters will be set to nan. Details: \n",
      "Traceback (most recent call last):\n",
      "  File \"C:\\ProgramData\\Anaconda3\\conda\\lib\\site-packages\\sklearn\\model_selection\\_validation.py\", line 598, in _fit_and_score\n",
      "    estimator.fit(X_train, y_train, **fit_params)\n",
      "  File \"C:\\ProgramData\\Anaconda3\\conda\\lib\\site-packages\\sklearn\\tree\\_classes.py\", line 1252, in fit\n",
      "    super().fit(\n",
      "  File \"C:\\ProgramData\\Anaconda3\\conda\\lib\\site-packages\\sklearn\\tree\\_classes.py\", line 351, in fit\n",
      "    criterion = CRITERIA_REG[self.criterion](self.n_outputs_,\n",
      "KeyError: 'absolute error'\n",
      "\n",
      "  warnings.warn(\"Estimator fit failed. The score on this train-test\"\n",
      "C:\\ProgramData\\Anaconda3\\conda\\lib\\site-packages\\sklearn\\model_selection\\_validation.py:615: FitFailedWarning: Estimator fit failed. The score on this train-test partition for these parameters will be set to nan. Details: \n",
      "Traceback (most recent call last):\n",
      "  File \"C:\\ProgramData\\Anaconda3\\conda\\lib\\site-packages\\sklearn\\model_selection\\_validation.py\", line 598, in _fit_and_score\n",
      "    estimator.fit(X_train, y_train, **fit_params)\n",
      "  File \"C:\\ProgramData\\Anaconda3\\conda\\lib\\site-packages\\sklearn\\tree\\_classes.py\", line 1252, in fit\n",
      "    super().fit(\n",
      "  File \"C:\\ProgramData\\Anaconda3\\conda\\lib\\site-packages\\sklearn\\tree\\_classes.py\", line 351, in fit\n",
      "    criterion = CRITERIA_REG[self.criterion](self.n_outputs_,\n",
      "KeyError: 'absolute error'\n",
      "\n",
      "  warnings.warn(\"Estimator fit failed. The score on this train-test\"\n",
      "C:\\ProgramData\\Anaconda3\\conda\\lib\\site-packages\\sklearn\\model_selection\\_validation.py:615: FitFailedWarning: Estimator fit failed. The score on this train-test partition for these parameters will be set to nan. Details: \n",
      "Traceback (most recent call last):\n",
      "  File \"C:\\ProgramData\\Anaconda3\\conda\\lib\\site-packages\\sklearn\\model_selection\\_validation.py\", line 598, in _fit_and_score\n",
      "    estimator.fit(X_train, y_train, **fit_params)\n",
      "  File \"C:\\ProgramData\\Anaconda3\\conda\\lib\\site-packages\\sklearn\\tree\\_classes.py\", line 1252, in fit\n",
      "    super().fit(\n",
      "  File \"C:\\ProgramData\\Anaconda3\\conda\\lib\\site-packages\\sklearn\\tree\\_classes.py\", line 351, in fit\n",
      "    criterion = CRITERIA_REG[self.criterion](self.n_outputs_,\n",
      "KeyError: 'absolute error'\n",
      "\n",
      "  warnings.warn(\"Estimator fit failed. The score on this train-test\"\n",
      "C:\\ProgramData\\Anaconda3\\conda\\lib\\site-packages\\sklearn\\model_selection\\_validation.py:615: FitFailedWarning: Estimator fit failed. The score on this train-test partition for these parameters will be set to nan. Details: \n",
      "Traceback (most recent call last):\n",
      "  File \"C:\\ProgramData\\Anaconda3\\conda\\lib\\site-packages\\sklearn\\model_selection\\_validation.py\", line 598, in _fit_and_score\n",
      "    estimator.fit(X_train, y_train, **fit_params)\n",
      "  File \"C:\\ProgramData\\Anaconda3\\conda\\lib\\site-packages\\sklearn\\tree\\_classes.py\", line 1252, in fit\n",
      "    super().fit(\n",
      "  File \"C:\\ProgramData\\Anaconda3\\conda\\lib\\site-packages\\sklearn\\tree\\_classes.py\", line 351, in fit\n",
      "    criterion = CRITERIA_REG[self.criterion](self.n_outputs_,\n",
      "KeyError: 'absolute error'\n",
      "\n",
      "  warnings.warn(\"Estimator fit failed. The score on this train-test\"\n",
      "C:\\ProgramData\\Anaconda3\\conda\\lib\\site-packages\\sklearn\\model_selection\\_validation.py:615: FitFailedWarning: Estimator fit failed. The score on this train-test partition for these parameters will be set to nan. Details: \n",
      "Traceback (most recent call last):\n",
      "  File \"C:\\ProgramData\\Anaconda3\\conda\\lib\\site-packages\\sklearn\\model_selection\\_validation.py\", line 598, in _fit_and_score\n",
      "    estimator.fit(X_train, y_train, **fit_params)\n",
      "  File \"C:\\ProgramData\\Anaconda3\\conda\\lib\\site-packages\\sklearn\\tree\\_classes.py\", line 1252, in fit\n",
      "    super().fit(\n",
      "  File \"C:\\ProgramData\\Anaconda3\\conda\\lib\\site-packages\\sklearn\\tree\\_classes.py\", line 351, in fit\n",
      "    criterion = CRITERIA_REG[self.criterion](self.n_outputs_,\n",
      "KeyError: 'absolute error'\n",
      "\n",
      "  warnings.warn(\"Estimator fit failed. The score on this train-test\"\n",
      "C:\\ProgramData\\Anaconda3\\conda\\lib\\site-packages\\sklearn\\model_selection\\_validation.py:615: FitFailedWarning: Estimator fit failed. The score on this train-test partition for these parameters will be set to nan. Details: \n",
      "Traceback (most recent call last):\n",
      "  File \"C:\\ProgramData\\Anaconda3\\conda\\lib\\site-packages\\sklearn\\model_selection\\_validation.py\", line 598, in _fit_and_score\n",
      "    estimator.fit(X_train, y_train, **fit_params)\n",
      "  File \"C:\\ProgramData\\Anaconda3\\conda\\lib\\site-packages\\sklearn\\tree\\_classes.py\", line 1252, in fit\n",
      "    super().fit(\n",
      "  File \"C:\\ProgramData\\Anaconda3\\conda\\lib\\site-packages\\sklearn\\tree\\_classes.py\", line 351, in fit\n",
      "    criterion = CRITERIA_REG[self.criterion](self.n_outputs_,\n",
      "KeyError: 'absolute error'\n",
      "\n",
      "  warnings.warn(\"Estimator fit failed. The score on this train-test\"\n",
      "C:\\ProgramData\\Anaconda3\\conda\\lib\\site-packages\\sklearn\\model_selection\\_validation.py:615: FitFailedWarning: Estimator fit failed. The score on this train-test partition for these parameters will be set to nan. Details: \n",
      "Traceback (most recent call last):\n",
      "  File \"C:\\ProgramData\\Anaconda3\\conda\\lib\\site-packages\\sklearn\\model_selection\\_validation.py\", line 598, in _fit_and_score\n",
      "    estimator.fit(X_train, y_train, **fit_params)\n",
      "  File \"C:\\ProgramData\\Anaconda3\\conda\\lib\\site-packages\\sklearn\\tree\\_classes.py\", line 1252, in fit\n",
      "    super().fit(\n",
      "  File \"C:\\ProgramData\\Anaconda3\\conda\\lib\\site-packages\\sklearn\\tree\\_classes.py\", line 351, in fit\n",
      "    criterion = CRITERIA_REG[self.criterion](self.n_outputs_,\n",
      "KeyError: 'absolute error'\n",
      "\n",
      "  warnings.warn(\"Estimator fit failed. The score on this train-test\"\n",
      "C:\\ProgramData\\Anaconda3\\conda\\lib\\site-packages\\sklearn\\model_selection\\_validation.py:615: FitFailedWarning: Estimator fit failed. The score on this train-test partition for these parameters will be set to nan. Details: \n",
      "Traceback (most recent call last):\n",
      "  File \"C:\\ProgramData\\Anaconda3\\conda\\lib\\site-packages\\sklearn\\model_selection\\_validation.py\", line 598, in _fit_and_score\n",
      "    estimator.fit(X_train, y_train, **fit_params)\n",
      "  File \"C:\\ProgramData\\Anaconda3\\conda\\lib\\site-packages\\sklearn\\tree\\_classes.py\", line 1252, in fit\n",
      "    super().fit(\n",
      "  File \"C:\\ProgramData\\Anaconda3\\conda\\lib\\site-packages\\sklearn\\tree\\_classes.py\", line 351, in fit\n",
      "    criterion = CRITERIA_REG[self.criterion](self.n_outputs_,\n",
      "KeyError: 'absolute error'\n",
      "\n",
      "  warnings.warn(\"Estimator fit failed. The score on this train-test\"\n",
      "C:\\ProgramData\\Anaconda3\\conda\\lib\\site-packages\\sklearn\\model_selection\\_validation.py:615: FitFailedWarning: Estimator fit failed. The score on this train-test partition for these parameters will be set to nan. Details: \n",
      "Traceback (most recent call last):\n",
      "  File \"C:\\ProgramData\\Anaconda3\\conda\\lib\\site-packages\\sklearn\\model_selection\\_validation.py\", line 598, in _fit_and_score\n",
      "    estimator.fit(X_train, y_train, **fit_params)\n",
      "  File \"C:\\ProgramData\\Anaconda3\\conda\\lib\\site-packages\\sklearn\\tree\\_classes.py\", line 1252, in fit\n",
      "    super().fit(\n",
      "  File \"C:\\ProgramData\\Anaconda3\\conda\\lib\\site-packages\\sklearn\\tree\\_classes.py\", line 351, in fit\n",
      "    criterion = CRITERIA_REG[self.criterion](self.n_outputs_,\n",
      "KeyError: 'absolute error'\n",
      "\n",
      "  warnings.warn(\"Estimator fit failed. The score on this train-test\"\n",
      "C:\\ProgramData\\Anaconda3\\conda\\lib\\site-packages\\sklearn\\model_selection\\_validation.py:615: FitFailedWarning: Estimator fit failed. The score on this train-test partition for these parameters will be set to nan. Details: \n",
      "Traceback (most recent call last):\n",
      "  File \"C:\\ProgramData\\Anaconda3\\conda\\lib\\site-packages\\sklearn\\model_selection\\_validation.py\", line 598, in _fit_and_score\n",
      "    estimator.fit(X_train, y_train, **fit_params)\n",
      "  File \"C:\\ProgramData\\Anaconda3\\conda\\lib\\site-packages\\sklearn\\tree\\_classes.py\", line 1252, in fit\n",
      "    super().fit(\n",
      "  File \"C:\\ProgramData\\Anaconda3\\conda\\lib\\site-packages\\sklearn\\tree\\_classes.py\", line 351, in fit\n",
      "    criterion = CRITERIA_REG[self.criterion](self.n_outputs_,\n",
      "KeyError: 'absolute error'\n",
      "\n",
      "  warnings.warn(\"Estimator fit failed. The score on this train-test\"\n",
      "C:\\ProgramData\\Anaconda3\\conda\\lib\\site-packages\\sklearn\\model_selection\\_validation.py:615: FitFailedWarning: Estimator fit failed. The score on this train-test partition for these parameters will be set to nan. Details: \n",
      "Traceback (most recent call last):\n",
      "  File \"C:\\ProgramData\\Anaconda3\\conda\\lib\\site-packages\\sklearn\\model_selection\\_validation.py\", line 598, in _fit_and_score\n",
      "    estimator.fit(X_train, y_train, **fit_params)\n",
      "  File \"C:\\ProgramData\\Anaconda3\\conda\\lib\\site-packages\\sklearn\\tree\\_classes.py\", line 1252, in fit\n",
      "    super().fit(\n",
      "  File \"C:\\ProgramData\\Anaconda3\\conda\\lib\\site-packages\\sklearn\\tree\\_classes.py\", line 351, in fit\n",
      "    criterion = CRITERIA_REG[self.criterion](self.n_outputs_,\n",
      "KeyError: 'absolute error'\n",
      "\n",
      "  warnings.warn(\"Estimator fit failed. The score on this train-test\"\n",
      "C:\\ProgramData\\Anaconda3\\conda\\lib\\site-packages\\sklearn\\model_selection\\_validation.py:615: FitFailedWarning: Estimator fit failed. The score on this train-test partition for these parameters will be set to nan. Details: \n",
      "Traceback (most recent call last):\n",
      "  File \"C:\\ProgramData\\Anaconda3\\conda\\lib\\site-packages\\sklearn\\model_selection\\_validation.py\", line 598, in _fit_and_score\n",
      "    estimator.fit(X_train, y_train, **fit_params)\n",
      "  File \"C:\\ProgramData\\Anaconda3\\conda\\lib\\site-packages\\sklearn\\tree\\_classes.py\", line 1252, in fit\n",
      "    super().fit(\n",
      "  File \"C:\\ProgramData\\Anaconda3\\conda\\lib\\site-packages\\sklearn\\tree\\_classes.py\", line 351, in fit\n",
      "    criterion = CRITERIA_REG[self.criterion](self.n_outputs_,\n",
      "KeyError: 'absolute error'\n",
      "\n",
      "  warnings.warn(\"Estimator fit failed. The score on this train-test\"\n",
      "C:\\ProgramData\\Anaconda3\\conda\\lib\\site-packages\\sklearn\\model_selection\\_validation.py:615: FitFailedWarning: Estimator fit failed. The score on this train-test partition for these parameters will be set to nan. Details: \n",
      "Traceback (most recent call last):\n",
      "  File \"C:\\ProgramData\\Anaconda3\\conda\\lib\\site-packages\\sklearn\\model_selection\\_validation.py\", line 598, in _fit_and_score\n",
      "    estimator.fit(X_train, y_train, **fit_params)\n",
      "  File \"C:\\ProgramData\\Anaconda3\\conda\\lib\\site-packages\\sklearn\\tree\\_classes.py\", line 1252, in fit\n",
      "    super().fit(\n",
      "  File \"C:\\ProgramData\\Anaconda3\\conda\\lib\\site-packages\\sklearn\\tree\\_classes.py\", line 351, in fit\n",
      "    criterion = CRITERIA_REG[self.criterion](self.n_outputs_,\n",
      "KeyError: 'absolute error'\n",
      "\n",
      "  warnings.warn(\"Estimator fit failed. The score on this train-test\"\n",
      "C:\\ProgramData\\Anaconda3\\conda\\lib\\site-packages\\sklearn\\model_selection\\_validation.py:615: FitFailedWarning: Estimator fit failed. The score on this train-test partition for these parameters will be set to nan. Details: \n",
      "Traceback (most recent call last):\n",
      "  File \"C:\\ProgramData\\Anaconda3\\conda\\lib\\site-packages\\sklearn\\model_selection\\_validation.py\", line 598, in _fit_and_score\n",
      "    estimator.fit(X_train, y_train, **fit_params)\n",
      "  File \"C:\\ProgramData\\Anaconda3\\conda\\lib\\site-packages\\sklearn\\tree\\_classes.py\", line 1252, in fit\n",
      "    super().fit(\n",
      "  File \"C:\\ProgramData\\Anaconda3\\conda\\lib\\site-packages\\sklearn\\tree\\_classes.py\", line 351, in fit\n",
      "    criterion = CRITERIA_REG[self.criterion](self.n_outputs_,\n",
      "KeyError: 'absolute error'\n",
      "\n",
      "  warnings.warn(\"Estimator fit failed. The score on this train-test\"\n",
      "C:\\ProgramData\\Anaconda3\\conda\\lib\\site-packages\\sklearn\\model_selection\\_search.py:922: UserWarning: One or more of the test scores are non-finite: [       nan        nan 0.33068592 0.36418624        nan        nan]\n",
      "  warnings.warn(\n"
     ]
    }
   ],
   "source": [
    "parameters = {'criterion':['squared_error', 'friedman_mse','absolute error'],\n",
    "             'splitter':['best','random']}   #buidling a dictionary of the parameters to be tuned\n",
    "\n",
    "c5= DecisionTreeRegressor()   #creating an instance of DecisiontreeRegressor\n",
    "\n",
    "grid = GridSearchCV(c5, parameters, cv=10)\n",
    "grid.fit(x,y)       #building the model by using the hyperparameter\n",
    "\n",
    "#printing the best hyperparameter, estimator and score fine tuned by GridSearchCV\n",
    "print(grid.best_params_)\n",
    "print(grid.best_estimator_)\n",
    "print(grid.best_score_)\n",
    "\n",
    "model.append(c5)\n",
    "score.append(grid.best_score_)\n",
    "parameter.append(grid.best_params_)"
   ]
  },
  {
   "cell_type": "code",
   "execution_count": 89,
   "id": "7cd20c43",
   "metadata": {},
   "outputs": [],
   "source": [
    "final_table= pd.DataFrame({'MODEL NAME':model,'':'','BEST SCORE':score, 'BEST PARAMETERS':parameter})"
   ]
  },
  {
   "cell_type": "code",
   "execution_count": 90,
   "id": "c4d00ce0",
   "metadata": {},
   "outputs": [
    {
     "name": "stdout",
     "output_type": "stream",
     "text": [
      "                                              SUMMARY OF MODELS                                                \n",
      "\n",
      "                MODEL NAME    BEST SCORE                                         BEST PARAMETERS\n",
      "0                  Ridge()      0.592326                                        Ridge(alpha=0.1)\n",
      "1                  Lasso()      0.592323                                     Lasso(alpha=0.0001)\n",
      "2       LinearRegression()      0.592322                           LinearRegression(n_jobs='-1')\n",
      "3    KNeighborsRegressor()      0.541534  KNeighborsRegressor(metric='euclidean', n_neighbors=7)\n",
      "4  DecisionTreeRegressor()      0.364186     {'criterion': 'friedman_mse', 'splitter': 'random'}\n"
     ]
    }
   ],
   "source": [
    "print(\"SUMMARY OF MODELS\".center(110),'\\n')\n",
    "print(final_table.to_string())"
   ]
  },
  {
   "cell_type": "markdown",
   "id": "7651f90a",
   "metadata": {},
   "source": [
    "CONCLUSION\n",
    "\n",
    "Part 1\n",
    "\n",
    "The problem we are handling in this project is a regression problem, since we are trying to predict the charges based on certain variables, and charges is a continuous variable.\n",
    "\n",
    "We have used five (5) different algorithms to develop a model to predict charges. From our model evaluation,  the Ridge regression has the best accuracy.the bias for our training data is 0.13879697981989667, while the bias for our testing data is 0.13366048111310602.\n",
    "\n",
    "In my observation, the model is working almost same on both the testing and training data going by the rmse values \n",
    "\n",
    "\n",
    "Part 2\n",
    "\n",
    "After building the model using GridSearchCV method and the five different model building algorithms and tuning the hyperparameters for the algorithm, a summary of my output is presented in the table above\n",
    "\n",
    "From my observation, the Ridge Resgression with a score of  0.592326 is the best performing model.\n",
    "\n",
    "In summary, my best performing model to predict charges is: cherges=(0.33061638)age + (0.01309255)children + (0.43375963)smoker  - (0.01546399)region + 0.07320254574145427"
   ]
  },
  {
   "cell_type": "code",
   "execution_count": null,
   "id": "e62d8dd2",
   "metadata": {},
   "outputs": [],
   "source": []
  }
 ],
 "metadata": {
  "kernelspec": {
   "display_name": "Python 3 (ipykernel)",
   "language": "python",
   "name": "python3"
  },
  "language_info": {
   "codemirror_mode": {
    "name": "ipython",
    "version": 3
   },
   "file_extension": ".py",
   "mimetype": "text/x-python",
   "name": "python",
   "nbconvert_exporter": "python",
   "pygments_lexer": "ipython3",
   "version": "3.9.7"
  }
 },
 "nbformat": 4,
 "nbformat_minor": 5
}
